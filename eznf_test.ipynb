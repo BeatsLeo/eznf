{
 "cells": [
  {
   "cell_type": "code",
   "execution_count": 1,
   "metadata": {},
   "outputs": [],
   "source": [
    "import torch\n",
    "import numpy as np\n",
    "import eznf\n",
    "from eznf import Tensor\n",
    "from eznf import datasets\n",
    "from eznf.autograd import function\n",
    "# from eznf.nn.modules import *"
   ]
  },
  {
   "cell_type": "code",
   "execution_count": 5,
   "metadata": {},
   "outputs": [],
   "source": [
    "class Linear(eznf.nn.Module):\n",
    "    def __init__(self, in_features, out_features):\n",
    "        super().__init__()\n",
    "        self.w = Tensor(in_features, out_features, requires_grad=True, is_leaf=True)\n",
    "\n",
    "    def forward(self, x):\n",
    "        return self.w @ x"
   ]
  },
  {
   "cell_type": "code",
   "execution_count": 7,
   "metadata": {},
   "outputs": [
    {
     "data": {
      "text/plain": [
       "tensor(\n",
       "[[ 1.36716722 -0.91854857 -0.29956372  0.32508596 -0.03724147 -0.32652584\n",
       "   0.82737627 -0.56760402 -1.6011445   1.33811853  1.0079868  -1.11937218\n",
       "  -0.27191409 -0.21947478  0.10788551  0.87125386 -0.25388602  0.75616345\n",
       "  -1.66674723 -0.80987213]\n",
       " [ 2.37099842  0.84208844 -0.47129915  1.83829825  1.28006438 -1.55810657\n",
       "   1.1699201   1.32384169  1.08853656 -1.47434713 -2.29149502  0.35764747\n",
       "   0.50111118 -0.41071073 -0.1421328   0.30215097 -1.12809527 -0.48940214\n",
       "   0.42080944 -0.49662335]\n",
       " [-1.97654574  0.28698248  0.16927401  0.72724936  0.22167246 -1.1661354\n",
       "  -1.27824746  0.2384094   0.24272678 -0.36758297  0.24779637 -2.34836121\n",
       "   0.79643592 -0.20815625  0.14333092 -0.36379853 -0.31689589 -1.51781777\n",
       "  -0.88924273  0.26832825]\n",
       " [ 1.33316787 -0.40050651 -0.09283801  0.05972702  0.67316232  0.35953236\n",
       "  -1.87661789  1.08968832 -0.21334687  0.38923724  1.3486157   0.68901541\n",
       "  -0.02166691 -1.27055485  0.90038633 -0.56040382  0.79901462 -1.59363429\n",
       "  -0.91111399 -1.19466885]\n",
       " [ 0.21875698 -0.04328198 -1.0538667  -0.08160175  0.37946134  0.66262567\n",
       "  -0.08137343  0.66630232 -0.03558984  0.8670534  -0.85432961  0.74053639\n",
       "   0.11468499 -0.82939828 -0.92479632 -1.43783691 -0.44614695  0.87520209\n",
       "  -1.30873175  0.51771349]]\n",
       ")"
      ]
     },
     "execution_count": 7,
     "metadata": {},
     "output_type": "execute_result"
    }
   ],
   "source": [
    "Linear(5, 20).w"
   ]
  },
  {
   "cell_type": "code",
   "execution_count": null,
   "metadata": {},
   "outputs": [],
   "source": [
    "torch.Tensor(device='cuda')\n",
    "import cupy as np"
   ]
  }
 ],
 "metadata": {
  "kernelspec": {
   "display_name": "beatsleo",
   "language": "python",
   "name": "python3"
  },
  "language_info": {
   "codemirror_mode": {
    "name": "ipython",
    "version": 3
   },
   "file_extension": ".py",
   "mimetype": "text/x-python",
   "name": "python",
   "nbconvert_exporter": "python",
   "pygments_lexer": "ipython3",
   "version": "3.8.13"
  },
  "orig_nbformat": 4,
  "vscode": {
   "interpreter": {
    "hash": "16ea64f9ee948d927ad35fd9dd41586a042d593dc7bf73dbea6b47fb27e81f20"
   }
  }
 },
 "nbformat": 4,
 "nbformat_minor": 2
}
