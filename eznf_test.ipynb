{
 "cells": [
  {
   "cell_type": "code",
   "execution_count": null,
   "metadata": {},
   "outputs": [],
   "source": [
    "import torch\n",
    "import numpy as np\n",
    "import cupy as cpy\n",
    "from tqdm import tqdm\n",
    "import eznf\n",
    "from eznf import Tensor\n",
    "from eznf import datasets\n",
    "from eznf import optim"
   ]
  },
  {
   "cell_type": "markdown",
   "metadata": {},
   "source": [
    "### 全连接神经网络"
   ]
  },
  {
   "cell_type": "code",
   "execution_count": null,
   "metadata": {},
   "outputs": [],
   "source": [
    "class MLP(eznf.nn.Module):\n",
    "    def __init__(self):\n",
    "        super().__init__()\n",
    "        self.networks = [\n",
    "            eznf.nn.Linear(784, 256),\n",
    "            eznf.nn.ReLU(),\n",
    "            eznf.nn.Linear(256, 10)\n",
    "        ]\n",
    "    \n",
    "    def forward(self, x):\n",
    "        for i in self.networks:\n",
    "            x = i(x)\n",
    "        return x"
   ]
  },
  {
   "cell_type": "markdown",
   "metadata": {},
   "source": [
    "### 卷积神经网络"
   ]
  },
  {
   "cell_type": "code",
   "execution_count": null,
   "metadata": {},
   "outputs": [],
   "source": [
    "class CNN(eznf.nn.Module):\n",
    "    def __init__(self):\n",
    "        super().__init__()\n",
    "        self.networks = [\n",
    "            eznf.nn.Cov2d(1, 3, 3),\n",
    "            eznf.nn.MaxPooling(2),\n",
    "            eznf.nn.Flatten(),\n",
    "            eznf.nn.Linear(507, 256),\n",
    "            eznf.nn.ReLU(),\n",
    "            eznf.nn.Linear(256, 10)\n",
    "        ]\n",
    "    \n",
    "    def forward(self, x):\n",
    "        for i in self.networks:\n",
    "            x = i(x)\n",
    "        return x"
   ]
  },
  {
   "cell_type": "markdown",
   "metadata": {},
   "source": [
    "### 数据读取"
   ]
  },
  {
   "cell_type": "code",
   "execution_count": null,
   "metadata": {},
   "outputs": [],
   "source": [
    "mnist = datasets.MNIST('./', False)\n",
    "data = mnist.get()"
   ]
  },
  {
   "cell_type": "markdown",
   "metadata": {},
   "source": [
    "### 数据预处理"
   ]
  },
  {
   "cell_type": "code",
   "execution_count": null,
   "metadata": {},
   "outputs": [],
   "source": [
    "MLP_X_train, MLP_Y_train, MLP_X_test, MLP_Y_test = data\n",
    "\n",
    "MLP_X_train = MLP_X_train / 255\n",
    "MLP_X_train = np.vstack([i.flatten() for i in MLP_X_train.item])\n",
    "MLP_X_test = MLP_X_test / 255\n",
    "MLP_X_test = np.vstack([i.flatten() for i in MLP_X_test.item])\n",
    "\n",
    "MLP_Y_train = eznf.one_hot(Tensor(MLP_Y_train), 10)\n",
    "MLP_Y_test = eznf.one_hot(Tensor(MLP_Y_test), 10)"
   ]
  },
  {
   "cell_type": "code",
   "execution_count": null,
   "metadata": {},
   "outputs": [],
   "source": [
    "CNN_X_train, CNN_Y_train, CNN_X_test, CNN_Y_test = data\n",
    "\n",
    "CNN_X_train = CNN_X_train / 255\n",
    "CNN_X_train = eznf.Tensor(CNN_X_train, requires_grad=False)\n",
    "CNN_X_train = CNN_X_train[:,None,:,:]\n",
    "\n",
    "CNN_X_test = CNN_X_test / 255\n",
    "CNN_X_test = eznf.Tensor(CNN_X_test, requires_grad=False)\n",
    "CNN_X_test = CNN_X_test[:,None,:,:]\n",
    "\n",
    "CNN_Y_train = eznf.one_hot(Tensor(CNN_Y_train), 10)\n",
    "CNN_Y_test = eznf.one_hot(Tensor(CNN_Y_test), 10)"
   ]
  },
  {
   "cell_type": "markdown",
   "metadata": {},
   "source": [
    "### MLP训练"
   ]
  },
  {
   "cell_type": "code",
   "execution_count": null,
   "metadata": {},
   "outputs": [],
   "source": [
    "epoches = 100\n",
    "batch_size = 1024\n",
    "steps = len(MLP_X_train) // batch_size\n",
    "\n",
    "m = MLP()\n",
    "loss = eznf.nn.CrossEntropyLoss()\n",
    "optim = optim.SGD(alpha=0.01, model=m)\n",
    "\n",
    "with tqdm(total=epoches) as t:\n",
    "    for i in range(epoches):\n",
    "        for j in range(steps):\n",
    "            x = X_train[j*batch_size : (j+1)*batch_size]\n",
    "            y = Y_train[j*batch_size : (j+1)*batch_size]\n",
    "            out = m(x)\n",
    "            l = loss(out, y.T) / batch_size\n",
    "            l.backward()\n",
    "            optim.step()\n",
    "            optim.zero_grad()\n",
    "        \n",
    "        t.set_description('Epoch {}'.format(i), refresh=False)\n",
    "        t.set_postfix(loss=l.item[0], refresh=False)\n",
    "        t.update(1)"
   ]
  },
  {
   "cell_type": "markdown",
   "metadata": {},
   "source": [
    "### CNN训练"
   ]
  },
  {
   "cell_type": "code",
   "execution_count": null,
   "metadata": {},
   "outputs": [],
   "source": []
  }
 ],
 "metadata": {
  "kernelspec": {
   "display_name": "beatsleo",
   "language": "python",
   "name": "python3"
  },
  "language_info": {
   "codemirror_mode": {
    "name": "ipython",
    "version": 3
   },
   "file_extension": ".py",
   "mimetype": "text/x-python",
   "name": "python",
   "nbconvert_exporter": "python",
   "pygments_lexer": "ipython3",
   "version": "3.8.13"
  },
  "orig_nbformat": 4,
  "vscode": {
   "interpreter": {
    "hash": "16ea64f9ee948d927ad35fd9dd41586a042d593dc7bf73dbea6b47fb27e81f20"
   }
  }
 },
 "nbformat": 4,
 "nbformat_minor": 2
}
