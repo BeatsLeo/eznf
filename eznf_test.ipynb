{
 "cells": [
  {
   "cell_type": "code",
   "execution_count": 7,
   "metadata": {},
   "outputs": [],
   "source": [
    "import torch\n",
    "import numpy as np\n",
    "import cupy as cpy\n",
    "from tqdm import tqdm\n",
    "import eznf\n",
    "from eznf import Tensor\n",
    "from eznf import datasets"
   ]
  },
  {
   "cell_type": "code",
   "execution_count": 8,
   "metadata": {},
   "outputs": [],
   "source": [
    "class test(eznf.nn.Module):\n",
    "    def __init__(self):\n",
    "        super().__init__()\n",
    "        self.networks = [\n",
    "            eznf.nn.Cov2d(1, 3, 3),\n",
    "            eznf.nn.MaxPooling(2),\n",
    "            eznf.nn.Flatten(),\n",
    "            eznf.nn.Linear(507, 256),\n",
    "            eznf.nn.ReLU(),\n",
    "            eznf.nn.Linear(256, 10)\n",
    "        ]\n",
    "    \n",
    "    def forward(self, x):\n",
    "        for i in self.networks:\n",
    "            x = i(x)\n",
    "        return x"
   ]
  },
  {
   "cell_type": "code",
   "execution_count": 9,
   "metadata": {},
   "outputs": [],
   "source": [
    "dataset = datasets.MNIST('./', False)\n",
    "data = dataset.get()"
   ]
  },
  {
   "cell_type": "code",
   "execution_count": 10,
   "metadata": {},
   "outputs": [],
   "source": [
    "X_train, Y_train, X_test, Y_test = data\n",
    "X_train = X_train / 255\n",
    "# X_train = np.vstack([i.flatten() for i in X_train.item])\n",
    "Y_train = eznf.one_hot(Tensor(Y_train), 10)\n",
    "X_train = eznf.Tensor(X_train, requires_grad=False)\n",
    "X_train = X_train[:,None,:,:]"
   ]
  },
  {
   "cell_type": "code",
   "execution_count": 11,
   "metadata": {},
   "outputs": [],
   "source": [
    "def zero_grad(m):\n",
    "    for w in m.parameters():\n",
    "        w.grad = None\n",
    "\n",
    "def SGD(m: eznf.nn.Module, alpha):\n",
    "    # 梯度下降\n",
    "    for w in m.parameters():\n",
    "        w.item = w.item - alpha*w.grad.item"
   ]
  },
  {
   "cell_type": "code",
   "execution_count": 12,
   "metadata": {},
   "outputs": [
    {
     "name": "stderr",
     "output_type": "stream",
     "text": [
      "  0%|          | 0/100 [00:04<?, ?it/s]\n"
     ]
    },
    {
     "ename": "ValueError",
     "evalue": "operands could not be broadcast together with shapes (10,1024) (10,60000) ",
     "output_type": "error",
     "traceback": [
      "\u001b[1;31m---------------------------------------------------------------------------\u001b[0m",
      "\u001b[1;31mValueError\u001b[0m                                Traceback (most recent call last)",
      "\u001b[1;32me:\\QQDownload\\神经网络课程设计\\代码\\eznf_test.ipynb Cell 6\u001b[0m in \u001b[0;36m<cell line: 6>\u001b[1;34m()\u001b[0m\n\u001b[0;32m     <a href='vscode-notebook-cell:/e%3A/QQDownload/%E7%A5%9E%E7%BB%8F%E7%BD%91%E7%BB%9C%E8%AF%BE%E7%A8%8B%E8%AE%BE%E8%AE%A1/%E4%BB%A3%E7%A0%81/eznf_test.ipynb#W5sZmlsZQ%3D%3D?line=9'>10</a>\u001b[0m y \u001b[39m=\u001b[39m Y_train[j\u001b[39m*\u001b[39mbatch_size : (j\u001b[39m+\u001b[39m\u001b[39m1\u001b[39m)\u001b[39m*\u001b[39mbatch_size]\n\u001b[0;32m     <a href='vscode-notebook-cell:/e%3A/QQDownload/%E7%A5%9E%E7%BB%8F%E7%BD%91%E7%BB%9C%E8%AF%BE%E7%A8%8B%E8%AE%BE%E8%AE%A1/%E4%BB%A3%E7%A0%81/eznf_test.ipynb#W5sZmlsZQ%3D%3D?line=10'>11</a>\u001b[0m out \u001b[39m=\u001b[39m m(X_train)\n\u001b[1;32m---> <a href='vscode-notebook-cell:/e%3A/QQDownload/%E7%A5%9E%E7%BB%8F%E7%BD%91%E7%BB%9C%E8%AF%BE%E7%A8%8B%E8%AE%BE%E8%AE%A1/%E4%BB%A3%E7%A0%81/eznf_test.ipynb#W5sZmlsZQ%3D%3D?line=11'>12</a>\u001b[0m l \u001b[39m=\u001b[39m loss(out, y\u001b[39m.\u001b[39;49mT) \u001b[39m/\u001b[39m batch_size\n\u001b[0;32m     <a href='vscode-notebook-cell:/e%3A/QQDownload/%E7%A5%9E%E7%BB%8F%E7%BD%91%E7%BB%9C%E8%AF%BE%E7%A8%8B%E8%AE%BE%E8%AE%A1/%E4%BB%A3%E7%A0%81/eznf_test.ipynb#W5sZmlsZQ%3D%3D?line=12'>13</a>\u001b[0m l\u001b[39m.\u001b[39mbackward()\n\u001b[0;32m     <a href='vscode-notebook-cell:/e%3A/QQDownload/%E7%A5%9E%E7%BB%8F%E7%BD%91%E7%BB%9C%E8%AF%BE%E7%A8%8B%E8%AE%BE%E8%AE%A1/%E4%BB%A3%E7%A0%81/eznf_test.ipynb#W5sZmlsZQ%3D%3D?line=13'>14</a>\u001b[0m SGD(m, \u001b[39m0.01\u001b[39m)\n",
      "File \u001b[1;32me:\\QQDownload\\神经网络课程设计\\代码\\eznf\\nn\\modules\\module.py:8\u001b[0m, in \u001b[0;36mModule.__call__\u001b[1;34m(self, *args)\u001b[0m\n\u001b[0;32m      7\u001b[0m \u001b[39mdef\u001b[39;00m \u001b[39m__call__\u001b[39m(\u001b[39mself\u001b[39m, \u001b[39m*\u001b[39margs):\n\u001b[1;32m----> 8\u001b[0m     \u001b[39mreturn\u001b[39;00m \u001b[39mself\u001b[39;49m\u001b[39m.\u001b[39;49mforward(\u001b[39m*\u001b[39;49margs)\n",
      "File \u001b[1;32me:\\QQDownload\\神经网络课程设计\\代码\\eznf\\nn\\modules\\loss.py:16\u001b[0m, in \u001b[0;36mCrossEntropyLoss.forward\u001b[1;34m(self, x, y)\u001b[0m\n\u001b[0;32m     15\u001b[0m \u001b[39mdef\u001b[39;00m \u001b[39mforward\u001b[39m(\u001b[39mself\u001b[39m, x, y):\n\u001b[1;32m---> 16\u001b[0m     \u001b[39mreturn\u001b[39;00m cross_entropy(x, y)\n",
      "File \u001b[1;32me:\\QQDownload\\神经网络课程设计\\代码\\eznf\\nn\\functional.py:103\u001b[0m, in \u001b[0;36mcross_entropy\u001b[1;34m(x, y)\u001b[0m\n\u001b[0;32m    100\u001b[0m     grad_fn \u001b[39m=\u001b[39m \u001b[39mNone\u001b[39;00m\n\u001b[0;32m    102\u001b[0m a \u001b[39m=\u001b[39m softmax(x, \u001b[39m0\u001b[39m)\n\u001b[1;32m--> 103\u001b[0m res \u001b[39m=\u001b[39m \u001b[39m-\u001b[39m(y\u001b[39m.\u001b[39;49mitem\u001b[39m*\u001b[39;49mx\u001b[39m.\u001b[39;49marr\u001b[39m.\u001b[39;49mlog(a\u001b[39m.\u001b[39;49mitem))\u001b[39m.\u001b[39msum()\n\u001b[0;32m    104\u001b[0m \u001b[39mreturn\u001b[39;00m eznf\u001b[39m.\u001b[39mTensor(res, device\u001b[39m=\u001b[39mx\u001b[39m.\u001b[39mdevice, requires_grad\u001b[39m=\u001b[39mx\u001b[39m.\u001b[39mrequires_grad, grad_fn\u001b[39m=\u001b[39mgrad_fn, is_leaf\u001b[39m=\u001b[39m\u001b[39mFalse\u001b[39;00m)\n",
      "\u001b[1;31mValueError\u001b[0m: operands could not be broadcast together with shapes (10,1024) (10,60000) "
     ]
    }
   ],
   "source": [
    "epoches = 100\n",
    "m = test()\n",
    "loss = eznf.nn.CrossEntropyLoss()\n",
    "batch_size = 1024\n",
    "steps = len(X_train) // batch_size\n",
    "with tqdm(total=epoches) as t:\n",
    "    for i in range(epoches):\n",
    "        for j in range(steps):\n",
    "            x = X_train[j*batch_size : (j+1)*batch_size]\n",
    "            y = Y_train[j*batch_size : (j+1)*batch_size]\n",
    "            out = m(x)\n",
    "            l = loss(out, y.T) / batch_size\n",
    "            l.backward()\n",
    "            SGD(m, 0.01)\n",
    "            zero_grad(m)\n",
    "        \n",
    "        t.set_description('Epoch {}'.format(i), refresh=False)\n",
    "        t.set_postfix(loss=l.item[0], refresh=False)\n",
    "        t.update(1)"
   ]
  },
  {
   "cell_type": "code",
   "execution_count": null,
   "metadata": {},
   "outputs": [],
   "source": []
  }
 ],
 "metadata": {
  "kernelspec": {
   "display_name": "beatsleo",
   "language": "python",
   "name": "python3"
  },
  "language_info": {
   "codemirror_mode": {
    "name": "ipython",
    "version": 3
   },
   "file_extension": ".py",
   "mimetype": "text/x-python",
   "name": "python",
   "nbconvert_exporter": "python",
   "pygments_lexer": "ipython3",
   "version": "3.8.13"
  },
  "orig_nbformat": 4,
  "vscode": {
   "interpreter": {
    "hash": "16ea64f9ee948d927ad35fd9dd41586a042d593dc7bf73dbea6b47fb27e81f20"
   }
  }
 },
 "nbformat": 4,
 "nbformat_minor": 2
}
