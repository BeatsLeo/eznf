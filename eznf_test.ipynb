{
 "cells": [
  {
   "cell_type": "code",
   "execution_count": 87,
   "metadata": {},
   "outputs": [],
   "source": [
    "import torch\n",
    "import numpy as np\n",
    "import eznf\n",
    "from eznf import datasets"
   ]
  },
  {
   "cell_type": "code",
   "execution_count": 88,
   "metadata": {},
   "outputs": [
    {
     "data": {
      "text/plain": [
       "eznf.datasets.MNIST.MNIST"
      ]
     },
     "execution_count": 88,
     "metadata": {},
     "output_type": "execute_result"
    }
   ],
   "source": [
    "a = torch.Tensor(1,3)\n",
    "datasets.MNIST"
   ]
  },
  {
   "cell_type": "code",
   "execution_count": 1,
   "metadata": {},
   "outputs": [],
   "source": [
    "class Tensor:\n",
    "    def __init__(self, *args, device=None, requires_grad=False):\n",
    "        if(len(args) == 0):\n",
    "            self.item = np.random.randn(1)\n",
    "        elif(isinstance(args[0], list) or isinstance(args[0], np.ndarray) or isinstance(args[0], float)):\n",
    "            self.item = np.array(args[0], float).round(4)\n",
    "        else:\n",
    "            self.item = np.random.randn(*args)\n",
    "\n",
    "        self.requires_grad = requires_grad\n",
    "        self.grad_fn = None\n",
    "        self.device = device\n",
    "\n",
    "    @property\n",
    "    def shape(self):\n",
    "        return Tensor(np.array(self.item.shape))\n",
    "\n",
    "    @property\n",
    "    def T(self):\n",
    "        return Tensor(np.array(self.item.T))\n",
    "\n",
    "    def size(self):\n",
    "        return Tensor(np.array(self.item.shape))\n",
    "\n",
    "    def dim(self):\n",
    "        return len(self.item.shape)\n",
    "\n",
    "    def mean(self, axis=None):\n",
    "        return Tensor(self.item.mean(axis=axis).round(4))\n",
    "\n",
    "    def var(self, axis=None):\n",
    "        if(axis != None):\n",
    "            n = self.item.shape[axis]\n",
    "        else:\n",
    "            n = self.item.size\n",
    "        return Tensor(np.array(self.item.var(axis=axis)*n/(n-1)).round(4))\n",
    "\n",
    "    def std(self, axis=None):\n",
    "        if(axis != None):\n",
    "            n = self.item.shape[axis]\n",
    "        else:\n",
    "            n = self.item.size\n",
    "        return self.var().sqrt()\n",
    "\n",
    "    def abs(self):\n",
    "        return Tensor(np.abs(self.item))\n",
    "\n",
    "    def argmin(self, axis=None):\n",
    "        tensor = Tensor()\n",
    "        tensor.item = self.item.argmin(axis=axis)\n",
    "        return tensor\n",
    "    \n",
    "    def argmax(self, axis=None):\n",
    "        tensor = Tensor()\n",
    "        tensor.item = self.item.argmax(axis=axis)\n",
    "        return tensor\n",
    "\n",
    "    def view(self, *args):\n",
    "        return Tensor(self.item.reshape(*args))\n",
    "\n",
    "    def sqrt(self):\n",
    "        return Tensor(np.sqrt(self.item))\n",
    "\n",
    "    def tolist(self):\n",
    "        return self.item.tolist()\n",
    "\n",
    "    def numpy(self):\n",
    "        return self.item\n",
    "\n",
    "    def sin(self):\n",
    "        return Tensor(np.sin(self.item))\n",
    "\n",
    "    def cos(self):\n",
    "        return Tensor(np.cos(self.item))\n",
    "\n",
    "    def tan(self):\n",
    "        return Tensor(np.tan(self.item))\n",
    "\n",
    "    def tanh(self):\n",
    "        return Tensor(np.tanh(self.item))\n",
    "\n",
    "    def exp(self):\n",
    "        return Tensor(np.exp(self.item))\n",
    "\n",
    "    def mm(self, mat2):\n",
    "        if(not isinstance(mat2, Tensor)):\n",
    "            raise TypeError(\"mat2 must be a Tensor\")\n",
    "        return Tensor(np.matmul(self.item, mat2))\n",
    "\n",
    "    def copy(self):\n",
    "        return Tensor(self.item.copy())\n",
    "\n",
    "    def __str__(self):\n",
    "        return 'tensor(\\n{}\\n)'.format(self.item)\n",
    "\n",
    "    def __repr__(self):\n",
    "        return 'tensor(\\n{}\\n)'.format(self.item)"
   ]
  },
  {
   "cell_type": "code",
   "execution_count": 282,
   "metadata": {},
   "outputs": [
    {
     "name": "stdout",
     "output_type": "stream",
     "text": [
      "tensor(\n",
      "[[2.718300e+00 1.353000e-01 2.008550e+01]\n",
      " [3.679000e-01 7.389100e+00 2.008550e+01]\n",
      " [2.718300e+00 7.389100e+00 4.980000e-02]\n",
      " [5.459820e+01 1.484132e+02 4.034288e+02]]\n",
      ") \n",
      " tensor([[2.7183e+00, 1.3534e-01, 2.0086e+01],\n",
      "        [3.6788e-01, 7.3891e+00, 2.0086e+01],\n",
      "        [2.7183e+00, 7.3891e+00, 4.9787e-02],\n",
      "        [5.4598e+01, 1.4841e+02, 4.0343e+02]])\n"
     ]
    }
   ],
   "source": [
    "b = Tensor([[1,-2,3],[-1,2,3],[1,2,-3],[4,5,6]])\n",
    "c = torch.Tensor([[1,-2,3],[-1,2,3],[1,2,-3],[4,5,6]])\n",
    "print(b, '\\n', c)\n",
    "# np.abs(b.item)"
   ]
  },
  {
   "cell_type": "code",
   "execution_count": null,
   "metadata": {},
   "outputs": [],
   "source": []
  }
 ],
 "metadata": {
  "kernelspec": {
   "display_name": "beatsleo",
   "language": "python",
   "name": "python3"
  },
  "language_info": {
   "codemirror_mode": {
    "name": "ipython",
    "version": 3
   },
   "file_extension": ".py",
   "mimetype": "text/x-python",
   "name": "python",
   "nbconvert_exporter": "python",
   "pygments_lexer": "ipython3",
   "version": "3.8.13"
  },
  "orig_nbformat": 4,
  "vscode": {
   "interpreter": {
    "hash": "16ea64f9ee948d927ad35fd9dd41586a042d593dc7bf73dbea6b47fb27e81f20"
   }
  }
 },
 "nbformat": 4,
 "nbformat_minor": 2
}
