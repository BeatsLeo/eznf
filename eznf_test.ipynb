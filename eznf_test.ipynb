{
 "cells": [
  {
   "cell_type": "code",
   "execution_count": 2,
   "metadata": {},
   "outputs": [],
   "source": [
    "import torch\n",
    "import numpy as np\n",
    "from tqdm import tqdm\n",
    "import eznf\n",
    "from eznf import Tensor\n",
    "from eznf import datasets\n",
    "from eznf.autograd import function\n",
    "# from eznf.nn.modules import *"
   ]
  },
  {
   "cell_type": "code",
   "execution_count": 3,
   "metadata": {},
   "outputs": [],
   "source": [
    "class test(eznf.nn.Module):\n",
    "    def __init__(self):\n",
    "        super().__init__()\n",
    "        self.networks = [\n",
    "            eznf.nn.Linear(784, 256),\n",
    "            eznf.nn.ReLU(),\n",
    "            eznf.nn.Linear(256, 10)\n",
    "        ]\n",
    "    \n",
    "    def forward(self, x):\n",
    "        for i in self.networks:\n",
    "            x = i(x)\n",
    "        return x"
   ]
  },
  {
   "cell_type": "code",
   "execution_count": 4,
   "metadata": {},
   "outputs": [],
   "source": [
    "dataset = datasets.MNIST('./', False)\n",
    "data = dataset.get()"
   ]
  },
  {
   "cell_type": "code",
   "execution_count": 5,
   "metadata": {},
   "outputs": [
    {
     "ename": "NameError",
     "evalue": "name 'Tr' is not defined",
     "output_type": "error",
     "traceback": [
      "\u001b[1;31m---------------------------------------------------------------------------\u001b[0m",
      "\u001b[1;31mNameError\u001b[0m                                 Traceback (most recent call last)",
      "\u001b[1;32me:\\QQDownload\\神经网络课程设计\\代码\\eznf_test.ipynb Cell 4\u001b[0m in \u001b[0;36m<cell line: 4>\u001b[1;34m()\u001b[0m\n\u001b[0;32m      <a href='vscode-notebook-cell:/e%3A/QQDownload/%E7%A5%9E%E7%BB%8F%E7%BD%91%E7%BB%9C%E8%AF%BE%E7%A8%8B%E8%AE%BE%E8%AE%A1/%E4%BB%A3%E7%A0%81/eznf_test.ipynb#W3sZmlsZQ%3D%3D?line=1'>2</a>\u001b[0m X_train \u001b[39m=\u001b[39m X_train \u001b[39m/\u001b[39m \u001b[39m255\u001b[39m\n\u001b[0;32m      <a href='vscode-notebook-cell:/e%3A/QQDownload/%E7%A5%9E%E7%BB%8F%E7%BD%91%E7%BB%9C%E8%AF%BE%E7%A8%8B%E8%AE%BE%E8%AE%A1/%E4%BB%A3%E7%A0%81/eznf_test.ipynb#W3sZmlsZQ%3D%3D?line=2'>3</a>\u001b[0m Y_train \u001b[39m=\u001b[39m eznf\u001b[39m.\u001b[39mone_hot(Tensor(Y_train), \u001b[39m10\u001b[39m)\n\u001b[1;32m----> <a href='vscode-notebook-cell:/e%3A/QQDownload/%E7%A5%9E%E7%BB%8F%E7%BD%91%E7%BB%9C%E8%AF%BE%E7%A8%8B%E8%AE%BE%E8%AE%A1/%E4%BB%A3%E7%A0%81/eznf_test.ipynb#W3sZmlsZQ%3D%3D?line=3'>4</a>\u001b[0m torch\u001b[39m.\u001b[39mtensor(X_train, requires_grad\u001b[39m=\u001b[39mTr)\n\u001b[0;32m      <a href='vscode-notebook-cell:/e%3A/QQDownload/%E7%A5%9E%E7%BB%8F%E7%BD%91%E7%BB%9C%E8%AF%BE%E7%A8%8B%E8%AE%BE%E8%AE%A1/%E4%BB%A3%E7%A0%81/eznf_test.ipynb#W3sZmlsZQ%3D%3D?line=4'>5</a>\u001b[0m torch\u001b[39m.\u001b[39mnn\u001b[39m.\u001b[39mFlatten(X_train)\n",
      "\u001b[1;31mNameError\u001b[0m: name 'Tr' is not defined"
     ]
    }
   ],
   "source": [
    "X_train, Y_train, X_test, Y_test = data\n",
    "X_train = X_train / 255\n",
    "Y_train = eznf.one_hot(Tensor(Y_train), 10)\n",
    "torch.tensor(X_train, requires_grad=True)\n",
    "torch.nn.Flatten(X_train)"
   ]
  },
  {
   "cell_type": "code",
   "execution_count": null,
   "metadata": {},
   "outputs": [],
   "source": [
    "def zero_grad(m):\n",
    "    for w in m.parameters():\n",
    "        w.grad = None\n",
    "\n",
    "def SGD(m: eznf.nn.Module, alpha):\n",
    "    # 梯度下降\n",
    "    for w in m.parameters():\n",
    "        w.item = w.item - alpha*w.grad.item"
   ]
  },
  {
   "cell_type": "code",
   "execution_count": null,
   "metadata": {},
   "outputs": [],
   "source": [
    "epoches = 100\n",
    "m = test()\n",
    "loss = eznf.nn.CrossEntropyLoss()\n",
    "with tqdm(total=epoches) as t:\n",
    "    for i in range(epoches):\n",
    "        y = m(X_train)\n",
    "        l = loss(y, Y_train.T) / 60000\n",
    "        l.backward()\n",
    "        SGD(m, 0.1)\n",
    "        zero_grad(m)\n",
    "        \n",
    "        t.set_description('Epoch {}'.format(i), refresh=False)\n",
    "        t.set_postfix(loss=l.item[0], refresh=False)\n",
    "        t.update(1)"
   ]
  },
  {
   "cell_type": "code",
   "execution_count": null,
   "metadata": {},
   "outputs": [],
   "source": []
  }
 ],
 "metadata": {
  "kernelspec": {
   "display_name": "beatsleo",
   "language": "python",
   "name": "python3"
  },
  "language_info": {
   "codemirror_mode": {
    "name": "ipython",
    "version": 3
   },
   "file_extension": ".py",
   "mimetype": "text/x-python",
   "name": "python",
   "nbconvert_exporter": "python",
   "pygments_lexer": "ipython3",
   "version": "3.8.13"
  },
  "orig_nbformat": 4,
  "vscode": {
   "interpreter": {
    "hash": "16ea64f9ee948d927ad35fd9dd41586a042d593dc7bf73dbea6b47fb27e81f20"
   }
  }
 },
 "nbformat": 4,
 "nbformat_minor": 2
}
