{
 "cells": [
  {
   "cell_type": "code",
<<<<<<< Updated upstream
   "execution_count": 4,
=======
   "execution_count": 1,
>>>>>>> Stashed changes
   "metadata": {},
   "outputs": [],
   "source": [
    "import torch\n",
    "import numpy as np\n",
    "\n",
    "import eznf"
   ]
  },
  {
   "cell_type": "code",
<<<<<<< Updated upstream
   "execution_count": 5,
   "metadata": {},
   "outputs": [
    {
     "data": {
      "text/plain": [
       "tensor([[0., 0., 0.]])"
      ]
     },
     "execution_count": 5,
     "metadata": {},
     "output_type": "execute_result"
    }
   ],
=======
   "execution_count": 2,
   "metadata": {},
   "outputs": [
    {
     "data": {
      "text/plain": [
       "eznf.datasets.MNIST.MNIST"
      ]
     },
     "execution_count": 2,
     "metadata": {},
     "output_type": "execute_result"
    }
   ],
   "source": [
    "a = torch.Tensor(1,3)\n",
    "datasets.MNIST"
   ]
  },
  {
   "cell_type": "code",
   "execution_count": 3,
   "metadata": {},
   "outputs": [],
   "source": [
    "class Tensor:\n",
    "    def __init__(self, *args, device=None, requires_grad=False, grad_fn=None, is_leaf=True):\n",
    "        if(len(args) == 0):\n",
    "            self.item = np.random.randn(1)\n",
    "        elif(isinstance(args[0], list) or isinstance(args[0], np.ndarray) or isinstance(args[0], float)):\n",
    "            self.item = np.array(args[0], float).round(4)\n",
    "        elif(isinstance(args[0], Tensor)):\n",
    "            self.item = args[0].item\n",
    "        else:\n",
    "            self.item = np.random.randn(*args)\n",
    "\n",
    "        self.requires_grad = requires_grad\n",
    "        self.grad_fn = grad_fn\n",
    "        self.is_leaf = is_leaf\n",
    "        self.device = device\n",
    "        self.grad = None\n",
    "\n",
    "    @property\n",
    "    def shape(self):\n",
    "        return Tensor(np.array(self.item.shape))\n",
    "\n",
    "    @property\n",
    "    def T(self):\n",
    "        return Tensor(np.array(self.item.T))\n",
    "\n",
    "    def size(self):\n",
    "        return self.item.size\n",
    "\n",
    "    def dim(self):\n",
    "        return len(self.item.shape)\n",
    "\n",
    "    def mean(self, axis=None):\n",
    "        return Tensor(self.item.mean(axis=axis).round(4))\n",
    "\n",
    "    def var(self, axis=None):\n",
    "        if(axis != None):\n",
    "            n = self.item.shape[axis]\n",
    "        else:\n",
    "            n = self.item.size\n",
    "        return Tensor(np.array(self.item.var(axis=axis)*n/(n-1)).round(4))\n",
    "\n",
    "    def std(self, axis=None):\n",
    "        if(axis != None):\n",
    "            n = self.item.shape[axis]\n",
    "        else:\n",
    "            n = self.item.size\n",
    "        return self.var().sqrt()\n",
    "\n",
    "    def abs(self):\n",
    "        return Tensor(np.abs(self.item))\n",
    "\n",
    "    def argmin(self, axis=None):\n",
    "        tensor = Tensor()\n",
    "        tensor.item = self.item.argmin(axis=axis)\n",
    "        return tensor\n",
    "    \n",
    "    def argmax(self, axis=None):\n",
    "        tensor = Tensor()\n",
    "        tensor.item = self.item.argmax(axis=axis)\n",
    "        return tensor\n",
    "\n",
    "    def view(self, *args):\n",
    "        return Tensor(self.item.reshape(*args))\n",
    "\n",
    "    def sqrt(self):\n",
    "        return Tensor(np.sqrt(self.item))\n",
    "\n",
    "    def tolist(self):\n",
    "        return self.item.tolist()\n",
    "\n",
    "    def numpy(self):\n",
    "        return self.item\n",
    "\n",
    "    def sin(self):\n",
    "        return Tensor(np.sin(self.item))\n",
    "\n",
    "    def cos(self):\n",
    "        return Tensor(np.cos(self.item))\n",
    "\n",
    "    def tan(self):\n",
    "        return Tensor(np.tan(self.item))\n",
    "\n",
    "    def tanh(self):\n",
    "        return Tensor(np.tanh(self.item))\n",
    "\n",
    "    def exp(self):\n",
    "        return Tensor(np.exp(self.item))\n",
    "\n",
    "    def mm(self, mat2):\n",
    "        if(not isinstance(mat2, Tensor)):\n",
    "            raise TypeError(\"mat2 must be a Tensor\")\n",
    "        return Tensor(np.matmul(self.item, mat2))\n",
    "\n",
    "    def copy(self):\n",
    "        return Tensor(self.item.copy())\n",
    "\n",
    "    def __str__(self):\n",
    "        return 'tensor(\\n{}\\n)'.format(self.item)\n",
    "\n",
    "    def __repr__(self):\n",
    "        return 'tensor(\\n{}\\n)'.format(self.item)\n",
    "\n",
    "    def __add__(self, other):\n",
    "        if(not isinstance(other, Tensor)):\n",
    "            other = Tensor([other])\n",
    "        requires_grad = self.requires_grad or other.requires_grad\n",
    "        if(requires_grad):\n",
    "            grad_fn = function.AddBackward(self, other, requires_grad=requires_grad)\n",
    "        else:\n",
    "            grad_fn = None\n",
    "        return Tensor(self.item + other.item, requires_grad=requires_grad, grad_fn=grad_fn, is_leaf=False)\n",
    "\n",
    "    def __mul__(self, other):\n",
    "        if(not isinstance(other, Tensor)):\n",
    "            other = Tensor([other])\n",
    "        requires_grad = self.requires_grad or other.requires_grad\n",
    "        if(requires_grad):\n",
    "            grad_fn = function.MulBackward(self, other, requires_grad=requires_grad)\n",
    "        else:\n",
    "            grad_fn = None\n",
    "        return Tensor(self.item * other.item, requires_grad=requires_grad, grad_fn=grad_fn, is_leaf=False)\n",
    "\n",
    "    def __rmul__(self, other):\n",
    "        return self.__mul__(other)\n",
    "\n",
    "    # 重载 @ 运算符\n",
    "    def __matmul__(self, other):\n",
    "        if(not isinstance(other, Tensor)):\n",
    "            other = Tensor([other])\n",
    "        requires_grad = self.requires_grad or other.requires_grad\n",
    "        if(requires_grad):\n",
    "            grad_fn = function.DotBackward(self, other, requires_grad=requires_grad)\n",
    "        else:\n",
    "            grad_fn = None\n",
    "        \n",
    "        try:\n",
    "            res = self.item @ other.item\n",
    "        except:\n",
    "            raise ValueError('mat1 and mat2 日妈不匹配 ({} and {})'.format(self.item.shape, other.item.shape))\n",
    "\n",
    "        return Tensor(res, requires_grad=requires_grad, grad_fn=grad_fn, is_leaf=False)\n",
    "\n",
    "    def __rmatmul__(self, other):\n",
    "        return self.__matmul__(other)\n",
    "\n",
    "    def backward(self, output=None):\n",
    "        if(not output):\n",
    "            output = Tensor([1])\n",
    "        if(self.size() != output.size()):\n",
    "            raise RuntimeError('grad can be implicitly created only for scalar outputs')\n",
    "        if(self.grad_fn):\n",
    "            self.grad_fn.backward(output)\n",
    "        else:\n",
    "            if(self.grad):\n",
    "                self.grad += output\n",
    "            else:\n",
    "                self.grad = output"
   ]
  },
  {
   "cell_type": "code",
   "execution_count": 4,
   "metadata": {},
   "outputs": [
    {
     "data": {
      "text/plain": [
       "tensor(\n",
       "[[ 2. -4.  6.]\n",
       " [-2.  4.  6.]\n",
       " [ 2.  4. -6.]\n",
       " [ 8. 10. 12.]]\n",
       ")"
      ]
     },
     "execution_count": 4,
     "metadata": {},
     "output_type": "execute_result"
    }
   ],
   "source": [
    "b = Tensor([[1,-2,3],[-1,2,3],[1,2,-3],[4,5,6]])\n",
    "a = Tensor([[1,-2,3],[-1,2,3],[1,2,-3],[4,5,6]])\n",
    "Tensor(a.item + b.item)"
   ]
  },
  {
   "cell_type": "code",
   "execution_count": 5,
   "metadata": {},
   "outputs": [
    {
     "ename": "RuntimeError",
     "evalue": "size mismatch, got 1, 1x1,3",
     "output_type": "error",
     "traceback": [
      "\u001b[1;31m---------------------------------------------------------------------------\u001b[0m",
      "\u001b[1;31mRuntimeError\u001b[0m                              Traceback (most recent call last)",
      "\u001b[1;32mc:\\Users\\21105\\mycode\\my_py_code\\神经网络课程设计\\eznf\\eznf_test.ipynb Cell 5\u001b[0m in \u001b[0;36m<cell line: 4>\u001b[1;34m()\u001b[0m\n\u001b[0;32m      <a href='vscode-notebook-cell:/c%3A/Users/21105/mycode/my_py_code/%E7%A5%9E%E7%BB%8F%E7%BD%91%E7%BB%9C%E8%AF%BE%E7%A8%8B%E8%AE%BE%E8%AE%A1/eznf/eznf_test.ipynb#W4sZmlsZQ%3D%3D?line=1'>2</a>\u001b[0m b \u001b[39m=\u001b[39m torch\u001b[39m.\u001b[39mtensor([[\u001b[39m2.\u001b[39m, \u001b[39m2.\u001b[39m, \u001b[39m2.\u001b[39m]], requires_grad\u001b[39m=\u001b[39m\u001b[39mFalse\u001b[39;00m)\n\u001b[0;32m      <a href='vscode-notebook-cell:/c%3A/Users/21105/mycode/my_py_code/%E7%A5%9E%E7%BB%8F%E7%BD%91%E7%BB%9C%E8%AF%BE%E7%A8%8B%E8%AE%BE%E8%AE%A1/eznf/eznf_test.ipynb#W4sZmlsZQ%3D%3D?line=2'>3</a>\u001b[0m d \u001b[39m=\u001b[39m torch\u001b[39m.\u001b[39mtensor([[\u001b[39m4.\u001b[39m]], requires_grad\u001b[39m=\u001b[39m\u001b[39mTrue\u001b[39;00m)\n\u001b[1;32m----> <a href='vscode-notebook-cell:/c%3A/Users/21105/mycode/my_py_code/%E7%A5%9E%E7%BB%8F%E7%BD%91%E7%BB%9C%E8%AF%BE%E7%A8%8B%E8%AE%BE%E8%AE%A1/eznf/eznf_test.ipynb#W4sZmlsZQ%3D%3D?line=3'>4</a>\u001b[0m c \u001b[39m=\u001b[39m d \u001b[39m@\u001b[39;49m a\n\u001b[0;32m      <a href='vscode-notebook-cell:/c%3A/Users/21105/mycode/my_py_code/%E7%A5%9E%E7%BB%8F%E7%BD%91%E7%BB%9C%E8%AF%BE%E7%A8%8B%E8%AE%BE%E8%AE%A1/eznf/eznf_test.ipynb#W4sZmlsZQ%3D%3D?line=4'>5</a>\u001b[0m \u001b[39m# c.backward()\u001b[39;00m\n\u001b[0;32m      <a href='vscode-notebook-cell:/c%3A/Users/21105/mycode/my_py_code/%E7%A5%9E%E7%BB%8F%E7%BD%91%E7%BB%9C%E8%AF%BE%E7%A8%8B%E8%AE%BE%E8%AE%A1/eznf/eznf_test.ipynb#W4sZmlsZQ%3D%3D?line=5'>6</a>\u001b[0m \u001b[39m# c\u001b[39;00m\n\u001b[0;32m      <a href='vscode-notebook-cell:/c%3A/Users/21105/mycode/my_py_code/%E7%A5%9E%E7%BB%8F%E7%BD%91%E7%BB%9C%E8%AF%BE%E7%A8%8B%E8%AE%BE%E8%AE%A1/eznf/eznf_test.ipynb#W4sZmlsZQ%3D%3D?line=6'>7</a>\u001b[0m \u001b[39m# a.grad\u001b[39;00m\n\u001b[1;32m   (...)\u001b[0m\n\u001b[0;32m     <a href='vscode-notebook-cell:/c%3A/Users/21105/mycode/my_py_code/%E7%A5%9E%E7%BB%8F%E7%BD%91%E7%BB%9C%E8%AF%BE%E7%A8%8B%E8%AE%BE%E8%AE%A1/eznf/eznf_test.ipynb#W4sZmlsZQ%3D%3D?line=11'>12</a>\u001b[0m \u001b[39m# a.backward()\u001b[39;00m\n\u001b[0;32m     <a href='vscode-notebook-cell:/c%3A/Users/21105/mycode/my_py_code/%E7%A5%9E%E7%BB%8F%E7%BD%91%E7%BB%9C%E8%AF%BE%E7%A8%8B%E8%AE%BE%E8%AE%A1/eznf/eznf_test.ipynb#W4sZmlsZQ%3D%3D?line=12'>13</a>\u001b[0m \u001b[39m# a.grad\u001b[39;00m\n\u001b[0;32m     <a href='vscode-notebook-cell:/c%3A/Users/21105/mycode/my_py_code/%E7%A5%9E%E7%BB%8F%E7%BD%91%E7%BB%9C%E8%AF%BE%E7%A8%8B%E8%AE%BE%E8%AE%A1/eznf/eznf_test.ipynb#W4sZmlsZQ%3D%3D?line=13'>14</a>\u001b[0m c\n",
      "\u001b[1;31mRuntimeError\u001b[0m: size mismatch, got 1, 1x1,3"
     ]
    }
   ],
   "source": [
    "a = torch.tensor([3., 3., 3.], requires_grad=True)\n",
    "b = torch.tensor([[2., 2., 2.]], requires_grad=False)\n",
    "d = torch.tensor([[4.]], requires_grad=True)\n",
    "c = d @ a\n",
    "# c.backward()\n",
    "# c\n",
    "# a.grad\n",
    "# c.backward()\n",
    "# a.grad\n",
    "# d = c + a\n",
    "# d.grad_fn.next_functions\n",
    "# a.backward()\n",
    "# a.grad\n",
    "c"
   ]
  },
  {
   "cell_type": "code",
   "execution_count": null,
   "metadata": {},
   "outputs": [],
   "source": [
    "a = Tensor([3,3,3], requires_grad=True)\n",
    "c = a @ a\n",
    "# c.backward(eznf.Tensor([1, 1, 1]))\n",
    "# a.grad\n",
    "c.backward()\n",
    "# isinstance(Tensor([2]), Tensor)"
   ]
  },
  {
   "cell_type": "code",
   "execution_count": null,
   "metadata": {},
   "outputs": [],
>>>>>>> Stashed changes
   "source": [
    "a = torch.Tensor(1,3)\n",
    "a.backward()"
   ]
  },
  {
   "cell_type": "code",
   "execution_count": 6,
   "metadata": {},
   "outputs": [],
   "source": [
    "class Tensor:\n",
    "    def __init__(self, *args, device=None):\n",
    "        if(isinstance(args[0], list) or isinstance(args[0], np.ndarray)):\n",
    "            self.item = np.array(args[0], float)\n",
    "        else:\n",
    "            self.item = np.random.random(args)\n",
    "\n",
    "        self.device = device\n",
    "\n",
    "\n",
    "    def __str__(self):\n",
    "        return 'tensor({})'.format(self.item)\n",
    "    \n",
    "    def __sum__(self):\n",
    "        print('aa')"
   ]
  },
  {
   "cell_type": "code",
   "execution_count": 8,
   "metadata": {},
   "outputs": [
    {
     "ename": "TypeError",
     "evalue": "unsupported operand type(s) for +: 'int' and 'Tensor'",
     "output_type": "error",
     "traceback": [
      "\u001b[1;31m---------------------------------------------------------------------------\u001b[0m",
      "\u001b[1;31mTypeError\u001b[0m                                 Traceback (most recent call last)",
      "\u001b[1;32me:\\QQDownload\\神经网络课程设计\\代码\\eznf_test.ipynb Cell 4\u001b[0m in \u001b[0;36m<cell line: 2>\u001b[1;34m()\u001b[0m\n\u001b[0;32m      <a href='vscode-notebook-cell:/e%3A/QQDownload/%E7%A5%9E%E7%BB%8F%E7%BD%91%E7%BB%9C%E8%AF%BE%E7%A8%8B%E8%AE%BE%E8%AE%A1/%E4%BB%A3%E7%A0%81/eznf_test.ipynb#W3sZmlsZQ%3D%3D?line=0'>1</a>\u001b[0m b \u001b[39m=\u001b[39m Tensor(\u001b[39m1\u001b[39m,\u001b[39m1\u001b[39m)\n\u001b[1;32m----> <a href='vscode-notebook-cell:/e%3A/QQDownload/%E7%A5%9E%E7%BB%8F%E7%BD%91%E7%BB%9C%E8%AF%BE%E7%A8%8B%E8%AE%BE%E8%AE%A1/%E4%BB%A3%E7%A0%81/eznf_test.ipynb#W3sZmlsZQ%3D%3D?line=1'>2</a>\u001b[0m \u001b[39mprint\u001b[39m(\u001b[39msum\u001b[39;49m([b, b, b]))\n",
      "\u001b[1;31mTypeError\u001b[0m: unsupported operand type(s) for +: 'int' and 'Tensor'"
     ]
    }
   ],
   "source": [
    "b = Tensor(1,1)\n",
    "print(sum([b, b, b]))"
   ]
  },
  {
   "cell_type": "code",
   "execution_count": null,
   "metadata": {},
   "outputs": [],
   "source": []
  }
 ],
 "metadata": {
  "kernelspec": {
   "display_name": "Python 3.8.13 ('pytorch')",
   "language": "python",
   "name": "python3"
  },
  "language_info": {
   "codemirror_mode": {
    "name": "ipython",
    "version": 3
   },
   "file_extension": ".py",
   "mimetype": "text/x-python",
   "name": "python",
   "nbconvert_exporter": "python",
   "pygments_lexer": "ipython3",
   "version": "3.8.13"
  },
  "orig_nbformat": 4,
  "vscode": {
   "interpreter": {
    "hash": "165072c52a778f8e52483bfeb4aebe819e51e7f8d8bf07bb4ebb429d6c4302cd"
   }
  }
 },
 "nbformat": 4,
 "nbformat_minor": 2
}
