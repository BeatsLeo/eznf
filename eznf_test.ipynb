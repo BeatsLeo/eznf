{
 "cells": [
  {
   "cell_type": "code",
   "execution_count": 1,
   "metadata": {},
   "outputs": [],
   "source": [
    "import torch\n",
    "import numpy as np\n",
    "import eznf\n",
    "from eznf import datasets\n",
    "from eznf.autograd import function"
   ]
  },
  {
   "cell_type": "code",
   "execution_count": null,
   "metadata": {},
   "outputs": [],
   "source": [
    "a = torch.Tensor(1,3)\n",
    "datasets.MNIST"
   ]
  },
  {
   "cell_type": "code",
   "execution_count": 4,
   "metadata": {},
   "outputs": [],
   "source": [
    "class Tensor:\n",
    "    def __init__(self, *args, device=None, requires_grad=False, grad_fn=None, is_leaf=True):\n",
    "        if(len(args) == 0):\n",
    "            self.item = np.random.randn(1)\n",
    "        elif(isinstance(args[0], list) or isinstance(args[0], np.ndarray) or isinstance(args[0], float)):\n",
    "            self.item = np.array(args[0], float).round(4)\n",
    "        elif(isinstance(args[0]), Tensor):\n",
    "            self.item = args[0].item\n",
    "        else:\n",
    "            self.item = np.random.randn(*args)\n",
    "\n",
    "        self.requires_grad = requires_grad\n",
    "        self.grad_fn = grad_fn\n",
    "        self.is_leaf = is_leaf\n",
    "        self.device = device\n",
    "        self.grad = None\n",
    "\n",
    "    @property\n",
    "    def shape(self):\n",
    "        return Tensor(np.array(self.item.shape))\n",
    "\n",
    "    @property\n",
    "    def T(self):\n",
    "        return Tensor(np.array(self.item.T))\n",
    "\n",
    "    def size(self):\n",
    "        return self.item.size\n",
    "\n",
    "    def dim(self):\n",
    "        return len(self.item.shape)\n",
    "\n",
    "    def mean(self, axis=None):\n",
    "        return Tensor(self.item.mean(axis=axis).round(4))\n",
    "\n",
    "    def var(self, axis=None):\n",
    "        if(axis != None):\n",
    "            n = self.item.shape[axis]\n",
    "        else:\n",
    "            n = self.item.size\n",
    "        return Tensor(np.array(self.item.var(axis=axis)*n/(n-1)).round(4))\n",
    "\n",
    "    def std(self, axis=None):\n",
    "        if(axis != None):\n",
    "            n = self.item.shape[axis]\n",
    "        else:\n",
    "            n = self.item.size\n",
    "        return self.var().sqrt()\n",
    "\n",
    "    def abs(self):\n",
    "        return Tensor(np.abs(self.item))\n",
    "\n",
    "    def argmin(self, axis=None):\n",
    "        tensor = Tensor()\n",
    "        tensor.item = self.item.argmin(axis=axis)\n",
    "        return tensor\n",
    "    \n",
    "    def argmax(self, axis=None):\n",
    "        tensor = Tensor()\n",
    "        tensor.item = self.item.argmax(axis=axis)\n",
    "        return tensor\n",
    "\n",
    "    def view(self, *args):\n",
    "        return Tensor(self.item.reshape(*args))\n",
    "\n",
    "    def sqrt(self):\n",
    "        return Tensor(np.sqrt(self.item))\n",
    "\n",
    "    def tolist(self):\n",
    "        return self.item.tolist()\n",
    "\n",
    "    def numpy(self):\n",
    "        return self.item\n",
    "\n",
    "    def sin(self):\n",
    "        return Tensor(np.sin(self.item))\n",
    "\n",
    "    def cos(self):\n",
    "        return Tensor(np.cos(self.item))\n",
    "\n",
    "    def tan(self):\n",
    "        return Tensor(np.tan(self.item))\n",
    "\n",
    "    def tanh(self):\n",
    "        return Tensor(np.tanh(self.item))\n",
    "\n",
    "    def exp(self):\n",
    "        return Tensor(np.exp(self.item))\n",
    "\n",
    "    def mm(self, mat2):\n",
    "        if(not isinstance(mat2, Tensor)):\n",
    "            raise TypeError(\"mat2 must be a Tensor\")\n",
    "        return Tensor(np.matmul(self.item, mat2))\n",
    "\n",
    "    def copy(self):\n",
    "        return Tensor(self.item.copy())\n",
    "\n",
    "    def __str__(self):\n",
    "        return 'tensor(\\n{}\\n)'.format(self.item)\n",
    "\n",
    "    def __repr__(self):\n",
    "        return 'tensor(\\n{}\\n)'.format(self.item)\n",
    "\n",
    "    def __add__(self, other):\n",
    "        if(not isinstance(other, Tensor)):\n",
    "            other = Tensor([other])\n",
    "        requires_grad = self.requires_grad or other.requires_grad\n",
    "        if(requires_grad):\n",
    "            grad_fn = function.AddBackward(self, other, requires_grad=requires_grad)\n",
    "        else:\n",
    "            grad_fn = None\n",
    "        return Tensor(self.item + other.item, requires_grad=requires_grad, grad_fn=grad_fn, is_leaf=False)\n",
    "\n",
    "    def __mul__(self, other):\n",
    "        if(not isinstance(other, Tensor)):\n",
    "            other = Tensor([other])\n",
    "        requires_grad = self.requires_grad or other.requires_grad\n",
    "        if(requires_grad):\n",
    "            grad_fn = function.MulBackward(self, other, requires_grad=requires_grad)\n",
    "        else:\n",
    "            grad_fn = None\n",
    "        return Tensor(self.item * other.item, requires_grad=requires_grad, grad_fn=grad_fn, is_leaf=False)\n",
    "\n",
    "    def backward(self, output=None):\n",
    "        if(not output):\n",
    "            output = Tensor([1])\n",
    "        if(self.size() != output.size()):\n",
    "            raise RuntimeError('grad can be implicitly created only for scalar outputs')\n",
    "        if(self.grad_fn):\n",
    "            self.grad_fn.backward(output)\n",
    "        else:\n",
    "            if(self.grad):\n",
    "                self.grad += output\n",
    "            else:\n",
    "                self.grad = output"
   ]
  },
  {
   "cell_type": "code",
   "execution_count": null,
   "metadata": {},
   "outputs": [],
   "source": [
    "b = Tensor([[1,-2,3],[-1,2,3],[1,2,-3],[4,5,6]])\n",
    "a = Tensor([[1,-2,3],[-1,2,3],[1,2,-3],[4,5,6]])\n",
    "Tensor(a.item + b.item)"
   ]
  },
  {
   "cell_type": "code",
   "execution_count": 2,
   "metadata": {},
   "outputs": [
    {
     "ename": "RuntimeError",
     "evalue": "grad can be implicitly created only for scalar outputs",
     "output_type": "error",
     "traceback": [
      "\u001b[1;31m---------------------------------------------------------------------------\u001b[0m",
      "\u001b[1;31mRuntimeError\u001b[0m                              Traceback (most recent call last)",
      "\u001b[1;32me:\\QQDownload\\神经网络课程设计\\代码\\eznf_test.ipynb Cell 5\u001b[0m in \u001b[0;36m<cell line: 10>\u001b[1;34m()\u001b[0m\n\u001b[0;32m      <a href='vscode-notebook-cell:/e%3A/QQDownload/%E7%A5%9E%E7%BB%8F%E7%BD%91%E7%BB%9C%E8%AF%BE%E7%A8%8B%E8%AE%BE%E8%AE%A1/%E4%BB%A3%E7%A0%81/eznf_test.ipynb#W4sZmlsZQ%3D%3D?line=3'>4</a>\u001b[0m \u001b[39m# c.backward()\u001b[39;00m\n\u001b[0;32m      <a href='vscode-notebook-cell:/e%3A/QQDownload/%E7%A5%9E%E7%BB%8F%E7%BD%91%E7%BB%9C%E8%AF%BE%E7%A8%8B%E8%AE%BE%E8%AE%A1/%E4%BB%A3%E7%A0%81/eznf_test.ipynb#W4sZmlsZQ%3D%3D?line=4'>5</a>\u001b[0m \u001b[39m# a.grad\u001b[39;00m\n\u001b[0;32m      <a href='vscode-notebook-cell:/e%3A/QQDownload/%E7%A5%9E%E7%BB%8F%E7%BD%91%E7%BB%9C%E8%AF%BE%E7%A8%8B%E8%AE%BE%E8%AE%A1/%E4%BB%A3%E7%A0%81/eznf_test.ipynb#W4sZmlsZQ%3D%3D?line=5'>6</a>\u001b[0m \u001b[39m# d = c + a\u001b[39;00m\n\u001b[0;32m      <a href='vscode-notebook-cell:/e%3A/QQDownload/%E7%A5%9E%E7%BB%8F%E7%BD%91%E7%BB%9C%E8%AF%BE%E7%A8%8B%E8%AE%BE%E8%AE%A1/%E4%BB%A3%E7%A0%81/eznf_test.ipynb#W4sZmlsZQ%3D%3D?line=6'>7</a>\u001b[0m \u001b[39m# d.grad_fn.next_functions\u001b[39;00m\n\u001b[0;32m      <a href='vscode-notebook-cell:/e%3A/QQDownload/%E7%A5%9E%E7%BB%8F%E7%BD%91%E7%BB%9C%E8%AF%BE%E7%A8%8B%E8%AE%BE%E8%AE%A1/%E4%BB%A3%E7%A0%81/eznf_test.ipynb#W4sZmlsZQ%3D%3D?line=7'>8</a>\u001b[0m \u001b[39m# a.backward()\u001b[39;00m\n\u001b[0;32m      <a href='vscode-notebook-cell:/e%3A/QQDownload/%E7%A5%9E%E7%BB%8F%E7%BD%91%E7%BB%9C%E8%AF%BE%E7%A8%8B%E8%AE%BE%E8%AE%A1/%E4%BB%A3%E7%A0%81/eznf_test.ipynb#W4sZmlsZQ%3D%3D?line=8'>9</a>\u001b[0m e \u001b[39m=\u001b[39m a \u001b[39m+\u001b[39m \u001b[39m1\u001b[39m\n\u001b[1;32m---> <a href='vscode-notebook-cell:/e%3A/QQDownload/%E7%A5%9E%E7%BB%8F%E7%BD%91%E7%BB%9C%E8%AF%BE%E7%A8%8B%E8%AE%BE%E8%AE%A1/%E4%BB%A3%E7%A0%81/eznf_test.ipynb#W4sZmlsZQ%3D%3D?line=9'>10</a>\u001b[0m e\u001b[39m.\u001b[39;49mbackward()\n",
      "File \u001b[1;32me:\\Anaconda\\envs\\beatsleo\\lib\\site-packages\\torch\\_tensor.py:396\u001b[0m, in \u001b[0;36mTensor.backward\u001b[1;34m(self, gradient, retain_graph, create_graph, inputs)\u001b[0m\n\u001b[0;32m    387\u001b[0m \u001b[39mif\u001b[39;00m has_torch_function_unary(\u001b[39mself\u001b[39m):\n\u001b[0;32m    388\u001b[0m     \u001b[39mreturn\u001b[39;00m handle_torch_function(\n\u001b[0;32m    389\u001b[0m         Tensor\u001b[39m.\u001b[39mbackward,\n\u001b[0;32m    390\u001b[0m         (\u001b[39mself\u001b[39m,),\n\u001b[1;32m   (...)\u001b[0m\n\u001b[0;32m    394\u001b[0m         create_graph\u001b[39m=\u001b[39mcreate_graph,\n\u001b[0;32m    395\u001b[0m         inputs\u001b[39m=\u001b[39minputs)\n\u001b[1;32m--> 396\u001b[0m torch\u001b[39m.\u001b[39;49mautograd\u001b[39m.\u001b[39;49mbackward(\u001b[39mself\u001b[39;49m, gradient, retain_graph, create_graph, inputs\u001b[39m=\u001b[39;49minputs)\n",
      "File \u001b[1;32me:\\Anaconda\\envs\\beatsleo\\lib\\site-packages\\torch\\autograd\\__init__.py:166\u001b[0m, in \u001b[0;36mbackward\u001b[1;34m(tensors, grad_tensors, retain_graph, create_graph, grad_variables, inputs)\u001b[0m\n\u001b[0;32m    162\u001b[0m inputs \u001b[39m=\u001b[39m (inputs,) \u001b[39mif\u001b[39;00m \u001b[39misinstance\u001b[39m(inputs, torch\u001b[39m.\u001b[39mTensor) \u001b[39melse\u001b[39;00m \\\n\u001b[0;32m    163\u001b[0m     \u001b[39mtuple\u001b[39m(inputs) \u001b[39mif\u001b[39;00m inputs \u001b[39mis\u001b[39;00m \u001b[39mnot\u001b[39;00m \u001b[39mNone\u001b[39;00m \u001b[39melse\u001b[39;00m \u001b[39mtuple\u001b[39m()\n\u001b[0;32m    165\u001b[0m grad_tensors_ \u001b[39m=\u001b[39m _tensor_or_tensors_to_tuple(grad_tensors, \u001b[39mlen\u001b[39m(tensors))\n\u001b[1;32m--> 166\u001b[0m grad_tensors_ \u001b[39m=\u001b[39m _make_grads(tensors, grad_tensors_, is_grads_batched\u001b[39m=\u001b[39;49m\u001b[39mFalse\u001b[39;49;00m)\n\u001b[0;32m    167\u001b[0m \u001b[39mif\u001b[39;00m retain_graph \u001b[39mis\u001b[39;00m \u001b[39mNone\u001b[39;00m:\n\u001b[0;32m    168\u001b[0m     retain_graph \u001b[39m=\u001b[39m create_graph\n",
      "File \u001b[1;32me:\\Anaconda\\envs\\beatsleo\\lib\\site-packages\\torch\\autograd\\__init__.py:67\u001b[0m, in \u001b[0;36m_make_grads\u001b[1;34m(outputs, grads, is_grads_batched)\u001b[0m\n\u001b[0;32m     65\u001b[0m \u001b[39mif\u001b[39;00m out\u001b[39m.\u001b[39mrequires_grad:\n\u001b[0;32m     66\u001b[0m     \u001b[39mif\u001b[39;00m out\u001b[39m.\u001b[39mnumel() \u001b[39m!=\u001b[39m \u001b[39m1\u001b[39m:\n\u001b[1;32m---> 67\u001b[0m         \u001b[39mraise\u001b[39;00m \u001b[39mRuntimeError\u001b[39;00m(\u001b[39m\"\u001b[39m\u001b[39mgrad can be implicitly created only for scalar outputs\u001b[39m\u001b[39m\"\u001b[39m)\n\u001b[0;32m     68\u001b[0m     new_grads\u001b[39m.\u001b[39mappend(torch\u001b[39m.\u001b[39mones_like(out, memory_format\u001b[39m=\u001b[39mtorch\u001b[39m.\u001b[39mpreserve_format))\n\u001b[0;32m     69\u001b[0m \u001b[39melse\u001b[39;00m:\n",
      "\u001b[1;31mRuntimeError\u001b[0m: grad can be implicitly created only for scalar outputs"
     ]
    }
   ],
   "source": [
    "a = torch.tensor([3., 3., 3.], requires_grad=True)\n",
    "b = torch.tensor([2.], requires_grad=False)\n",
    "d = (a + b)* a + b\n",
    "# c.backward()\n",
    "# a.grad\n",
    "# d = c + a\n",
    "# d.grad_fn.next_functions\n",
    "# a.backward()\n",
    "e = a + 1\n",
    "e.backward()"
   ]
  },
  {
   "cell_type": "code",
   "execution_count": 4,
   "metadata": {},
   "outputs": [
    {
     "data": {
      "text/plain": [
       "tensor(\n",
       "[6. 6. 6.]\n",
       ")"
      ]
     },
     "execution_count": 4,
     "metadata": {},
     "output_type": "execute_result"
    }
   ],
   "source": [
    "a = eznf.Tensor([3,3,3], requires_grad=True)\n",
    "c = a * a\n",
    "c.backward(eznf.Tensor([1, 1, 1]))\n",
    "a.grad"
   ]
  },
  {
   "cell_type": "code",
   "execution_count": null,
   "metadata": {},
   "outputs": [],
   "source": [
    "a,b,c = [1, 2, None]\n",
    "c"
   ]
  },
  {
   "cell_type": "code",
   "execution_count": null,
   "metadata": {},
   "outputs": [],
   "source": []
  }
 ],
 "metadata": {
  "kernelspec": {
   "display_name": "beatsleo",
   "language": "python",
   "name": "python3"
  },
  "language_info": {
   "codemirror_mode": {
    "name": "ipython",
    "version": 3
   },
   "file_extension": ".py",
   "mimetype": "text/x-python",
   "name": "python",
   "nbconvert_exporter": "python",
   "pygments_lexer": "ipython3",
   "version": "3.8.13"
  },
  "orig_nbformat": 4,
  "vscode": {
   "interpreter": {
    "hash": "16ea64f9ee948d927ad35fd9dd41586a042d593dc7bf73dbea6b47fb27e81f20"
   }
  }
 },
 "nbformat": 4,
 "nbformat_minor": 2
}
