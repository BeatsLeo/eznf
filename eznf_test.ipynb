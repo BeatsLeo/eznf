{
 "cells": [
  {
   "cell_type": "code",
   "execution_count": 27,
   "metadata": {},
   "outputs": [],
   "source": [
    "import torch\n",
    "import numpy as np\n",
    "from tqdm import tqdm\n",
    "import eznf\n",
    "from eznf import Tensor\n",
    "from eznf import datasets\n",
    "from eznf.autograd import function\n",
    "# from eznf.nn.modules import *"
   ]
  },
  {
   "cell_type": "code",
   "execution_count": 28,
   "metadata": {},
   "outputs": [],
   "source": [
    "class Linear(eznf.nn.Module):\n",
    "    def __init__(self, in_features, out_features):\n",
    "        super().__init__()\n",
    "        w = 0.1*eznf.randn(out_features, in_features)\n",
    "        self.w = Tensor(w, requires_grad=True, is_leaf=True)\n",
    "\n",
    "    def forward(self, x):\n",
    "        return self.w @ x"
   ]
  },
  {
   "cell_type": "code",
   "execution_count": 29,
   "metadata": {},
   "outputs": [],
   "source": [
    "class test(eznf.nn.Module):\n",
    "    def __init__(self):\n",
    "        super().__init__()\n",
    "        self.networks = [\n",
    "            Linear(784, 256),\n",
    "            eznf.nn.ReLU(),\n",
    "            Linear(256, 10)\n",
    "        ]\n",
    "    \n",
    "    def forward(self, x):\n",
    "        for i in self.networks:\n",
    "            x = i(x)\n",
    "        return x"
   ]
  },
  {
   "cell_type": "code",
   "execution_count": 30,
   "metadata": {},
   "outputs": [],
   "source": [
    "dataset = datasets.MNIST('./', True)\n",
    "data = dataset.get()"
   ]
  },
  {
   "cell_type": "code",
   "execution_count": null,
   "metadata": {},
   "outputs": [],
   "source": [
    "X_train, Y_train, X_test, Y_test = data\n",
    "Y_train = eznf.one_hot(Tensor(Y_train), 10)\n",
    "X_train = Tensor([i.flatten() for i in X_train], requires_grad=True).T"
   ]
  },
  {
   "cell_type": "code",
   "execution_count": null,
   "metadata": {},
   "outputs": [],
   "source": [
    "def zero_grad(m):\n",
    "    for w in m.parameters():\n",
    "        w.grad = None\n",
    "\n",
    "def SGD(m: eznf.nn.Module, alpha):\n",
    "    # 梯度下降\n",
    "    for w in m.parameters():\n",
    "        # w.item = w.item - alpha*w.grad.item\n",
    "        print(w)"
   ]
  },
  {
   "cell_type": "code",
   "execution_count": null,
   "metadata": {},
   "outputs": [],
   "source": [
    "t = test()\n",
    "loss = eznf.nn.CrossEntropyLoss()\n",
    "# for i in tqdm(range(100)):\n",
    "#     y = t(X_train)\n",
    "#     l = ((y - Y_train.T)**2).sum() /6000\n",
    "#     print(l)\n",
    "#     l.backward()\n",
    "#     SGD(t, 0.1)\n",
    "#     zero_grad(t)\n",
    "\n",
    "\n",
    "# SGD(t, 0.1)\n",
    "for w in t.parameters():\n",
    "    print(w)"
   ]
  }
 ],
 "metadata": {
  "kernelspec": {
   "display_name": "beatsleo",
   "language": "python",
   "name": "python3"
  },
  "language_info": {
   "codemirror_mode": {
    "name": "ipython",
    "version": 3
   },
   "file_extension": ".py",
   "mimetype": "text/x-python",
   "name": "python",
   "nbconvert_exporter": "python",
   "pygments_lexer": "ipython3",
   "version": "3.8.13"
  },
  "orig_nbformat": 4,
  "vscode": {
   "interpreter": {
    "hash": "16ea64f9ee948d927ad35fd9dd41586a042d593dc7bf73dbea6b47fb27e81f20"
   }
  }
 },
 "nbformat": 4,
 "nbformat_minor": 2
}
