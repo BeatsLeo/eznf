{
 "cells": [
  {
   "cell_type": "code",
   "execution_count": 20,
   "metadata": {},
   "outputs": [],
   "source": [
    "import eznf\n",
    "import numpy as np\n",
    "import cupy as cpy\n",
    "from tqdm import tqdm\n",
    "from eznf import optim\n",
    "from eznf import Tensor\n",
    "from eznf import datasets\n",
    "from eznf import visualization"
   ]
  },
  {
   "cell_type": "markdown",
   "metadata": {},
   "source": [
    "### 全连接神经网络"
   ]
  },
  {
   "cell_type": "code",
   "execution_count": 21,
   "metadata": {},
   "outputs": [],
   "source": [
    "class MLP(eznf.nn.Module):\n",
    "    def __init__(self):\n",
    "        super().__init__()\n",
    "        self.networks = [\n",
    "            eznf.nn.Linear(784, 256),\n",
    "            eznf.nn.ReLU(),\n",
    "            eznf.nn.Linear(256, 10)\n",
    "        ]\n",
    "    \n",
    "    def forward(self, x):\n",
    "        for i in self.networks:\n",
    "            x = i(x)\n",
    "        return x"
   ]
  },
  {
   "cell_type": "markdown",
   "metadata": {},
   "source": [
    "### 卷积神经网络"
   ]
  },
  {
   "cell_type": "code",
   "execution_count": 22,
   "metadata": {},
   "outputs": [],
   "source": [
    "class CNN(eznf.nn.Module):\n",
    "    def __init__(self):\n",
    "        super().__init__()\n",
    "        self.networks = [\n",
    "            eznf.nn.Cov2d(1, 3, 3),\n",
    "            eznf.nn.MaxPooling(2),\n",
    "            eznf.nn.Flatten(),\n",
    "            eznf.nn.Linear(507, 256),\n",
    "            eznf.nn.ReLU(),\n",
    "            eznf.nn.Linear(256, 10)\n",
    "        ]\n",
    "    \n",
    "    def forward(self, x):\n",
    "        for i in self.networks:\n",
    "            x = i(x)\n",
    "        return x"
   ]
  },
  {
   "cell_type": "markdown",
   "metadata": {},
   "source": [
    "### 数据读取"
   ]
  },
  {
   "cell_type": "code",
   "execution_count": 23,
   "metadata": {},
   "outputs": [],
   "source": [
    "mnist = datasets.MNIST('./', False)\n",
    "data = mnist.get()"
   ]
  },
  {
   "cell_type": "markdown",
   "metadata": {},
   "source": [
    "### 数据预处理"
   ]
  },
  {
   "cell_type": "code",
   "execution_count": 24,
   "metadata": {},
   "outputs": [],
   "source": [
    "MLP_X_train, MLP_Y_train, MLP_X_test, MLP_Y_test = data\n",
    "\n",
    "MLP_X_train = MLP_X_train / 255\n",
    "MLP_X_train = np.vstack([i.flatten() for i in MLP_X_train.item])\n",
    "MLP_X_train = Tensor(MLP_X_train)\n",
    "\n",
    "MLP_X_test = MLP_X_test / 255\n",
    "MLP_X_test = np.vstack([i.flatten() for i in MLP_X_test.item])\n",
    "MLP_X_test = Tensor(MLP_X_test)\n",
    "\n",
    "MLP_Y_train = eznf.one_hot(Tensor(MLP_Y_train), 10)\n",
    "MLP_Y_test = eznf.one_hot(Tensor(MLP_Y_test), 10)"
   ]
  },
  {
   "cell_type": "code",
   "execution_count": 25,
   "metadata": {},
   "outputs": [],
   "source": [
    "CNN_X_train, CNN_Y_train, CNN_X_test, CNN_Y_test = data\n",
    "\n",
    "CNN_X_train = CNN_X_train / 255\n",
    "CNN_X_train = eznf.Tensor(CNN_X_train, requires_grad=False)\n",
    "CNN_X_train = CNN_X_train[:,None,:,:]\n",
    "\n",
    "CNN_X_test = CNN_X_test / 255\n",
    "CNN_X_test = eznf.Tensor(CNN_X_test, requires_grad=False)\n",
    "CNN_X_test = CNN_X_test[:,None,:,:]\n",
    "\n",
    "CNN_Y_train = eznf.one_hot(Tensor(CNN_Y_train), 10)\n",
    "CNN_Y_test = eznf.one_hot(Tensor(CNN_Y_test), 10)"
   ]
  },
  {
   "cell_type": "markdown",
   "metadata": {},
   "source": [
    "### MLP训练"
   ]
  },
  {
   "cell_type": "code",
   "execution_count": 26,
   "metadata": {},
   "outputs": [
    {
     "name": "stderr",
     "output_type": "stream",
     "text": [
      "Epoch 99: 100%|██████████| 100/100 [01:37<00:00,  1.03it/s, loss=0.143]\n"
     ]
    }
   ],
   "source": [
    "epoches = 100\n",
    "batch_size = 1024\n",
    "steps = len(MLP_X_train) // batch_size\n",
    "\n",
    "mlp = MLP()\n",
    "loss = eznf.nn.CrossEntropyLoss()\n",
    "opt = optim.SGD(alpha=0.01, model=mlp)\n",
    "\n",
    "with tqdm(total=epoches) as t:\n",
    "    for i in range(epoches):\n",
    "        for j in range(steps):\n",
    "            x = MLP_X_train[j*batch_size : (j+1)*batch_size]\n",
    "            y = MLP_Y_train[j*batch_size : (j+1)*batch_size]\n",
    "            out = mlp(x.T)\n",
    "            l = loss(out, y.T) / batch_size\n",
    "            l.backward()\n",
    "            opt.step()\n",
    "            opt.zero_grad()\n",
    "        \n",
    "        t.set_description('Epoch {}'.format(i), refresh=False)\n",
    "        t.set_postfix(loss=l.item[0], refresh=False)\n",
    "        t.update(1)"
   ]
  },
  {
   "cell_type": "code",
   "execution_count": 27,
   "metadata": {},
   "outputs": [
    {
     "name": "stderr",
     "output_type": "stream",
     "text": [
      "e:\\QQDownload\\神经网络课程设计\\代码\\eznf\\visualization\\Evaluation.py:34: UserWarning: Matplotlib is currently using module://matplotlib_inline.backend_inline, which is a non-GUI backend, so cannot show the figure.\n",
      "  img.show()\n"
     ]
    },
    {
     "data": {
      "image/png": "[encoded data removed]",
      "text/plain": [
       "<Figure size 432x288 with 2 Axes>"
      ]
     },
     "metadata": {
      "needs_background": "light"
     },
     "output_type": "display_data"
    }
   ],
   "source": [
    "v=visualization.Evaluation(mlp, MLP_X_train.T, MLP_X_test.T, MLP_Y_train, MLP_Y_test, 10)\n",
    "v.CMplot()"
   ]
  },
  {
   "cell_type": "markdown",
   "metadata": {},
   "source": [
    "### CNN训练"
   ]
  },
  {
   "cell_type": "code",
   "execution_count": 28,
   "metadata": {},
   "outputs": [
    {
     "name": "stderr",
     "output_type": "stream",
     "text": [
      "Epoch 19: 100%|██████████| 20/20 [03:39<00:00, 10.98s/it, loss=1.83]\n"
     ]
    }
   ],
   "source": [
    "epoches = 20\n",
    "batch_size = 1024\n",
    "steps = len(CNN_X_train) // batch_size\n",
    "\n",
    "cnn = CNN()\n",
    "loss = eznf.nn.CrossEntropyLoss()\n",
    "opt = optim.SGD(alpha=0.01, model=cnn)\n",
    "\n",
    "with tqdm(total=epoches) as t:\n",
    "    for i in range(epoches):\n",
    "        for j in range(steps):\n",
    "            x = CNN_X_train[j*batch_size : (j+1)*batch_size]\n",
    "            y = CNN_Y_train[j*batch_size : (j+1)*batch_size]\n",
    "            out = cnn(x)\n",
    "            l = loss(out, y.T) / batch_size\n",
    "            l.backward()\n",
    "            opt.step()\n",
    "            opt.zero_grad()\n",
    "        \n",
    "        t.set_description('Epoch {}'.format(i), refresh=False)\n",
    "        t.set_postfix(loss=l.item[0], refresh=False)\n",
    "        t.update(1)"
   ]
  },
  {
   "cell_type": "code",
   "execution_count": 29,
   "metadata": {},
   "outputs": [
    {
     "data": {
      "image/png": "[encoded data removed]",
      "text/plain": [
       "<Figure size 432x288 with 2 Axes>"
      ]
     },
     "metadata": {
      "needs_background": "light"
     },
     "output_type": "display_data"
    }
   ],
   "source": [
    "v=visualization.Evaluation(cnn, CNN_X_train, CNN_X_test, CNN_Y_train, CNN_Y_test, 10)\n",
    "v.CMplot()"
   ]
  },
  {
   "cell_type": "markdown",
   "metadata": {},
   "source": [
    "### GPU测试"
   ]
  },
  {
   "cell_type": "code",
   "execution_count": 30,
   "metadata": {},
   "outputs": [
    {
     "name": "stdout",
     "output_type": "stream",
     "text": [
      "CPU:  2.4389991760253906\n",
      "GPU:  1.502063512802124\n"
     ]
    }
   ],
   "source": [
    "from time import time\n",
    "\n",
    "a = eznf.ones(1000, 1000)\n",
    "t1 = time()\n",
    "for i in range(100):\n",
    "    b  = a @ a\n",
    "print('CPU: ', time() - t1)\n",
    "\n",
    "a.to('gpu')\n",
    "t1 = time()\n",
    "for i in range(100):\n",
    "    b  = a @ a\n",
    "print('GPU: ', time() - t1)"
   ]
  },
  {
   "cell_type": "markdown",
   "metadata": {},
   "source": [
    "### 感知机测试"
   ]
  },
  {
   "cell_type": "code",
   "execution_count": 31,
   "metadata": {},
   "outputs": [
    {
     "ename": "AttributeError",
     "evalue": "module 'eznf.nn' has no attribute 'Perceptron'",
     "output_type": "error",
     "traceback": [
      "\u001b[1;31m---------------------------------------------------------------------------\u001b[0m",
      "\u001b[1;31mAttributeError\u001b[0m                            Traceback (most recent call last)",
      "\u001b[1;32me:\\QQDownload\\神经网络课程设计\\代码\\eznf_test.ipynb Cell 20\u001b[0m in \u001b[0;36m<cell line: 11>\u001b[1;34m()\u001b[0m\n\u001b[0;32m      <a href='vscode-notebook-cell:/e%3A/QQDownload/%E7%A5%9E%E7%BB%8F%E7%BD%91%E7%BB%9C%E8%AF%BE%E7%A8%8B%E8%AE%BE%E8%AE%A1/%E4%BB%A3%E7%A0%81/eznf_test.ipynb#X31sZmlsZQ%3D%3D?line=7'>8</a>\u001b[0m lr \u001b[39m=\u001b[39m \u001b[39m0.5\u001b[39m\n\u001b[0;32m      <a href='vscode-notebook-cell:/e%3A/QQDownload/%E7%A5%9E%E7%BB%8F%E7%BD%91%E7%BB%9C%E8%AF%BE%E7%A8%8B%E8%AE%BE%E8%AE%A1/%E4%BB%A3%E7%A0%81/eznf_test.ipynb#X31sZmlsZQ%3D%3D?line=8'>9</a>\u001b[0m max_step \u001b[39m=\u001b[39m \u001b[39m100\u001b[39m\n\u001b[1;32m---> <a href='vscode-notebook-cell:/e%3A/QQDownload/%E7%A5%9E%E7%BB%8F%E7%BD%91%E7%BB%9C%E8%AF%BE%E7%A8%8B%E8%AE%BE%E8%AE%A1/%E4%BB%A3%E7%A0%81/eznf_test.ipynb#X31sZmlsZQ%3D%3D?line=10'>11</a>\u001b[0m p_model \u001b[39m=\u001b[39m eznf\u001b[39m.\u001b[39;49mnn\u001b[39m.\u001b[39;49mPerceptron(lr,max_step)\n\u001b[0;32m     <a href='vscode-notebook-cell:/e%3A/QQDownload/%E7%A5%9E%E7%BB%8F%E7%BD%91%E7%BB%9C%E8%AF%BE%E7%A8%8B%E8%AE%BE%E8%AE%A1/%E4%BB%A3%E7%A0%81/eznf_test.ipynb#X31sZmlsZQ%3D%3D?line=11'>12</a>\u001b[0m p_model\u001b[39m.\u001b[39mfit(train_X,train_Y)\n\u001b[0;32m     <a href='vscode-notebook-cell:/e%3A/QQDownload/%E7%A5%9E%E7%BB%8F%E7%BD%91%E7%BB%9C%E8%AF%BE%E7%A8%8B%E8%AE%BE%E8%AE%A1/%E4%BB%A3%E7%A0%81/eznf_test.ipynb#X31sZmlsZQ%3D%3D?line=13'>14</a>\u001b[0m \u001b[39mprint\u001b[39m(\u001b[39mf\u001b[39m\u001b[39m\"\u001b[39m\u001b[39mtest_Y = \u001b[39m\u001b[39m{\u001b[39;00mtest_Y\u001b[39m}\u001b[39;00m\u001b[39m,pred_Y = \u001b[39m\u001b[39m{\u001b[39;00mp_model\u001b[39m.\u001b[39mpredict(test_X)\u001b[39m}\u001b[39;00m\u001b[39m\"\u001b[39m)\n",
      "\u001b[1;31mAttributeError\u001b[0m: module 'eznf.nn' has no attribute 'Perceptron'"
     ]
    }
   ],
   "source": [
    "#数据集准备\n",
    "train_X = eznf.Tensor([[1.,-1.,-1.],[1.,1.,-1.]])\n",
    "test_X = eznf.Tensor([1.,1.,-1.])\n",
    "train_Y = eznf.Tensor([1.,-1.])\n",
    "test_Y = eznf.Tensor([1.])\n",
    "\n",
    "#参数设置\n",
    "lr = 0.5\n",
    "max_step = 100\n",
    "\n",
    "p_model = eznf.nn.Perceptron(lr,max_step)\n",
    "p_model.fit(train_X,train_Y)\n",
    "\n",
    "print(f\"test_Y = {test_Y},pred_Y = {p_model.predict(test_X)}\")"
   ]
  },
  {
   "cell_type": "markdown",
   "metadata": {},
   "source": [
    "### Hebb测试"
   ]
  },
  {
   "cell_type": "code",
   "execution_count": null,
   "metadata": {},
   "outputs": [],
   "source": [
    "#数据集准备\n",
    "train_X = eznf.Tensor([[1.,-1.,-1.],[1.,1.,-1.]])\n",
    "test_X = eznf.Tensor([-1.,1.,-1.])\n",
    "train_Y = eznf.Tensor([1.,-1.])\n",
    "test_Y = eznf.Tensor([1.])\n",
    "\n",
    "#参数设置\n",
    "lr = 0.5\n",
    "\n",
    "h_model = eznf.nn.Hebb(lr)\n",
    "h_model.fit(train_X,train_Y)\n",
    "\n",
    "print(f\"test_Y = {test_Y},pred_Y = {h_model.forward(test_X)}\")"
   ]
  },
  {
   "cell_type": "code",
   "execution_count": 32,
   "metadata": {},
   "outputs": [
    {
     "name": "stdout",
     "output_type": "stream",
     "text": [
      "tensor(\n",
      "[[ 1.30387739 -1.1998284   1.47868658  0.46624838]\n",
      " [-0.56039362 -1.57864911 -0.9321185  -0.69342469]]\n",
      ")\n"
     ]
    }
   ],
   "source": [
    "tensor = eznf.Tensor(2, 4)\n",
    "print(tensor)"
   ]
  },
  {
   "cell_type": "code",
   "execution_count": null,
   "metadata": {},
   "outputs": [],
   "source": []
  }
 ],
 "metadata": {
  "kernelspec": {
   "display_name": "Python 3.8.13 ('beatsleo')",
   "language": "python",
   "name": "python3"
  },
  "language_info": {
   "codemirror_mode": {
    "name": "ipython",
    "version": 3
   },
   "file_extension": ".py",
   "mimetype": "text/x-python",
   "name": "python",
   "nbconvert_exporter": "python",
   "pygments_lexer": "ipython3",
   "version": "3.8.13"
  },
  "orig_nbformat": 4,
  "vscode": {
   "interpreter": {
    "hash": "16ea64f9ee948d927ad35fd9dd41586a042d593dc7bf73dbea6b47fb27e81f20"
   }
  }
 },
 "nbformat": 4,
 "nbformat_minor": 2
}
