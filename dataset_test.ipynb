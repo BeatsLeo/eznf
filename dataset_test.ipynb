{
 "cells": [
  {
   "cell_type": "code",
   "execution_count": null,
   "metadata": {},
   "outputs": [],
   "source": [
    "import requests\n",
    "import time\n",
    "import os\n",
    "import numpy as np\n",
    "import struct\n",
    "import gzip\n",
    "import random\n",
    "import matplotlib.pyplot as plt\n",
    "\n",
    "file_gz = 'http://yann.lecun.com/exdb/mnist/' + 'train-images-idx3-ubyte' + '.gz'\n",
    "response = requests.get(file_gz)"
   ]
  },
  {
   "cell_type": "code",
   "execution_count": null,
   "metadata": {},
   "outputs": [],
   "source": [
    "from io import BytesIO, StringIO\n",
    "buffer = BytesIO(response.content)\n",
    "g_file = gzip.GzipFile(fileobj=buffer)\n",
    "sub_data = np.frombuffer(g_file.read(), dtype = np.uint8)[8:]\n",
    "sub_data[:10]"
   ]
  },
  {
   "cell_type": "code",
   "execution_count": null,
   "metadata": {},
   "outputs": [],
   "source": [
    "with open('test', 'rb') as file:\n",
    "    struct.unpack('>2i', file.read(8))\n",
    "    sub_data = np.fromfile(file, dtype = np.uint8)\n",
    "sub_data[:10]"
   ]
  }
 ],
 "metadata": {
  "kernelspec": {
<<<<<<< HEAD
   "display_name": "Python 3.9.12 ('base')",
=======
   "display_name": "beatsleo",
>>>>>>> 04f12272c7591d1117cb9947e213eed8466d6a5a
   "language": "python",
   "name": "python3"
  },
  "language_info": {
   "name": "python",
<<<<<<< HEAD
   "version": "3.9.12"
=======
   "version": "3.8.13 (default, Mar 28 2022, 06:59:08) [MSC v.1916 64 bit (AMD64)]"
>>>>>>> 04f12272c7591d1117cb9947e213eed8466d6a5a
  },
  "orig_nbformat": 4,
  "vscode": {
   "interpreter": {
<<<<<<< HEAD
    "hash": "fc1d228b85d280f7ac4fe71f55cb2153ec41bb617e63c17380066d770d6b8362"
=======
    "hash": "3c34c0319d0a309be29663e51c48d620a80f809bc34ab561fe0a7ac57c4f65c6"
>>>>>>> 04f12272c7591d1117cb9947e213eed8466d6a5a
   }
  }
 },
 "nbformat": 4,
 "nbformat_minor": 2
}
