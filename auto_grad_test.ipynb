{
 "cells": [
  {
   "cell_type": "code",
   "execution_count": 1,
   "metadata": {},
   "outputs": [],
   "source": [
    "import torch\n",
    "from eznf.autograd.function import AddBackward"
   ]
  },
  {
   "cell_type": "code",
   "execution_count": 2,
   "metadata": {},
   "outputs": [
    {
     "data": {
      "text/plain": [
       "torch.autograd.function.Function"
      ]
     },
     "execution_count": 2,
     "metadata": {},
     "output_type": "execute_result"
    }
   ],
   "source": [
    "a = torch.tensor([1.], requires_grad=True)\n",
    "b = torch.tensor([2.], requires_grad=True)\n",
    "c = torch.tensor([3.], requires_grad=True)\n",
    "d = torch.tensor([4.], requires_grad=True)\n",
    "e = sum([a*2, b*2, c*2, d*2])\n",
    "f = e * 10\n",
    "# g = torch.tensor([2.,3.,4.,5.], requires_grad=True)\n",
    "# h = torch.tensor([1.,1.,1.,1.], requires_grad=True)\n",
    "# i = g + h\n",
    "# i.backward(torch.Tensor([1.,1.,1.,1.]))\n",
    "# i.grad_fn.next_functions\n",
    "f.grad_fn.next_functions\n",
    "torch.autograd.Function"
   ]
  },
  {
   "cell_type": "code",
   "execution_count": 11,
   "metadata": {},
   "outputs": [
    {
     "name": "stdout",
     "output_type": "stream",
     "text": [
      "False\n",
      "True\n",
      "True\n",
      "True\n",
      "tensor([1.5000, 2.5000, 3.5000])\n",
      "tensor(1.)\n"
     ]
    }
   ],
   "source": [
    "#创建一个多元函数，即Y=XW+b=Y=x1*w1+x2*w2*x3*w3+b，x不可求导，W,b设置可求导\n",
    "X=torch.tensor([1.5,2.5,3.5],requires_grad=False)\n",
    "W=torch.tensor([0.2,0.4,0.6],requires_grad=True)\n",
    "b=torch.tensor(0.1,requires_grad=True)\n",
    "Y=torch.add(torch.dot(X,W),b)\n",
    " \n",
    " \n",
    "#判断每个tensor是否是可以求导的\n",
    "print(X.requires_grad)\n",
    "print(W.requires_grad)\n",
    "print(b.requires_grad)\n",
    "print(Y.requires_grad)\n",
    " \n",
    " \n",
    "#求导，通过backward函数来实现\n",
    "Y.backward()\n",
    " \n",
    "#查看导数，也即所谓的梯度\n",
    "print(W.grad)\n",
    "print(b.grad)\n",
    "\n",
    "z = Y.grad_fn"
   ]
  },
  {
   "cell_type": "code",
   "execution_count": 10,
   "metadata": {},
   "outputs": [
    {
     "ename": "AttributeError",
     "evalue": "'AddBackward' object has no attribute 'a'",
     "output_type": "error",
     "traceback": [
      "\u001b[1;31m---------------------------------------------------------------------------\u001b[0m",
      "\u001b[1;31mAttributeError\u001b[0m                            Traceback (most recent call last)",
      "\u001b[1;32me:\\QQDownload\\神经网络课程设计\\代码\\auto_grad_test.ipynb Cell 4\u001b[0m in \u001b[0;36m<cell line: 2>\u001b[1;34m()\u001b[0m\n\u001b[0;32m      <a href='vscode-notebook-cell:/e%3A/QQDownload/%E7%A5%9E%E7%BB%8F%E7%BD%91%E7%BB%9C%E8%AF%BE%E7%A8%8B%E8%AE%BE%E8%AE%A1/%E4%BB%A3%E7%A0%81/auto_grad_test.ipynb#W3sZmlsZQ%3D%3D?line=0'>1</a>\u001b[0m a \u001b[39m=\u001b[39m AddBackward()\n\u001b[1;32m----> <a href='vscode-notebook-cell:/e%3A/QQDownload/%E7%A5%9E%E7%BB%8F%E7%BD%91%E7%BB%9C%E8%AF%BE%E7%A8%8B%E8%AE%BE%E8%AE%A1/%E4%BB%A3%E7%A0%81/auto_grad_test.ipynb#W3sZmlsZQ%3D%3D?line=1'>2</a>\u001b[0m a\u001b[39m.\u001b[39;49ma\n",
      "\u001b[1;31mAttributeError\u001b[0m: 'AddBackward' object has no attribute 'a'"
     ]
    }
   ],
   "source": [
    "a = AddBackward()\n",
    "a.a"
   ]
  },
  {
   "cell_type": "code",
   "execution_count": null,
   "metadata": {},
   "outputs": [],
   "source": []
  }
 ],
 "metadata": {
  "kernelspec": {
   "display_name": "beatsleo",
   "language": "python",
   "name": "python3"
  },
  "language_info": {
   "codemirror_mode": {
    "name": "ipython",
    "version": 3
   },
   "file_extension": ".py",
   "mimetype": "text/x-python",
   "name": "python",
   "nbconvert_exporter": "python",
   "pygments_lexer": "ipython3",
   "version": "3.8.13 (default, Mar 28 2022, 06:59:08) [MSC v.1916 64 bit (AMD64)]"
  },
  "orig_nbformat": 4,
  "vscode": {
   "interpreter": {
    "hash": "16ea64f9ee948d927ad35fd9dd41586a042d593dc7bf73dbea6b47fb27e81f20"
   }
  }
 },
 "nbformat": 4,
 "nbformat_minor": 2
}
