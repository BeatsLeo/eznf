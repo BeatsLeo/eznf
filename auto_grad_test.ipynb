{
 "cells": [
  {
   "cell_type": "code",
   "execution_count": null,
   "metadata": {},
   "outputs": [],
   "source": [
    "import torch"
   ]
  },
  {
   "cell_type": "code",
   "execution_count": 69,
   "metadata": {},
   "outputs": [
    {
     "data": {
      "text/plain": [
       "['__call__',\n",
       " '__class__',\n",
       " '__delattr__',\n",
       " '__dir__',\n",
       " '__doc__',\n",
       " '__eq__',\n",
       " '__format__',\n",
       " '__ge__',\n",
       " '__getattribute__',\n",
       " '__gt__',\n",
       " '__hash__',\n",
       " '__init__',\n",
       " '__init_subclass__',\n",
       " '__le__',\n",
       " '__lt__',\n",
       " '__ne__',\n",
       " '__new__',\n",
       " '__reduce__',\n",
       " '__reduce_ex__',\n",
       " '__repr__',\n",
       " '__setattr__',\n",
       " '__sizeof__',\n",
       " '__str__',\n",
       " '__subclasshook__',\n",
       " '_register_hook_dict',\n",
       " '_saved_alpha',\n",
       " 'metadata',\n",
       " 'name',\n",
       " 'next_functions',\n",
       " 'register_hook',\n",
       " 'requires_grad']"
      ]
     },
     "execution_count": 69,
     "metadata": {},
     "output_type": "execute_result"
    }
   ],
   "source": [
    "a = torch.tensor([1.], requires_grad=True)\n",
    "b = torch.tensor([2.], requires_grad=True)\n",
    "c = torch.tensor([3.], requires_grad=True)\n",
    "d = torch.tensor([4.], requires_grad=True)\n",
    "e = sum([a*2, b*2, c*2, d*2])\n",
    "f = e * 10\n",
    "# g = torch.tensor([2.,3.,4.,5.], requires_grad=True)\n",
    "# h = torch.tensor([1.,1.,1.,1.], requires_grad=True)\n",
    "# i = g + h\n",
    "# i.backward(torch.Tensor([1.,1.,1.,1.]))\n",
    "# i.grad_fn.next_functions\n",
    "f.grad_fn.next_functions[0][0]"
   ]
  },
  {
   "cell_type": "code",
   "execution_count": 17,
   "metadata": {},
   "outputs": [
    {
     "name": "stdout",
     "output_type": "stream",
     "text": [
      "False\n",
      "True\n",
      "True\n",
      "True\n",
      "tensor([1.5000, 2.5000, 3.5000])\n",
      "tensor(1.)\n"
     ]
    },
    {
     "data": {
      "text/plain": [
       "<AccumulateGrad at 0x139ed1aa3a0>"
      ]
     },
     "execution_count": 17,
     "metadata": {},
     "output_type": "execute_result"
    }
   ],
   "source": [
    "#创建一个多元函数，即Y=XW+b=Y=x1*w1+x2*w2*x3*w3+b，x不可求导，W,b设置可求导\n",
    "X=torch.tensor([1.5,2.5,3.5],requires_grad=False)\n",
    "W=torch.tensor([0.2,0.4,0.6],requires_grad=True)\n",
    "b=torch.tensor(0.1,requires_grad=True)\n",
    "Y=torch.add(torch.dot(X,W),b)\n",
    " \n",
    " \n",
    "#判断每个tensor是否是可以求导的\n",
    "print(X.requires_grad)\n",
    "print(W.requires_grad)\n",
    "print(b.requires_grad)\n",
    "print(Y.requires_grad)\n",
    " \n",
    " \n",
    "#求导，通过backward函数来实现\n",
    "Y.backward()\n",
    " \n",
    "#查看导数，也即所谓的梯度\n",
    "print(W.grad)\n",
    "print(b.grad)\n",
    "\n",
    "z = Y.grad_fn.next_functions[0][0]\n",
    "z.next_functions"
   ]
  }
 ],
 "metadata": {
  "kernelspec": {
   "display_name": "beatsleo",
   "language": "python",
   "name": "python3"
  },
  "language_info": {
   "codemirror_mode": {
    "name": "ipython",
    "version": 3
   },
   "file_extension": ".py",
   "mimetype": "text/x-python",
   "name": "python",
   "nbconvert_exporter": "python",
   "pygments_lexer": "ipython3",
   "version": "3.8.13"
  },
  "orig_nbformat": 4,
  "vscode": {
   "interpreter": {
    "hash": "3c34c0319d0a309be29663e51c48d620a80f809bc34ab561fe0a7ac57c4f65c6"
   }
  }
 },
 "nbformat": 4,
 "nbformat_minor": 2
}
