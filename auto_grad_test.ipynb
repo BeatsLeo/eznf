{
 "cells": [
  {
   "cell_type": "code",
   "execution_count": null,
   "metadata": {},
   "outputs": [],
   "source": [
    "import torch"
   ]
  },
  {
   "cell_type": "code",
   "execution_count": null,
   "metadata": {},
   "outputs": [],
   "source": [
    "a = torch.Tensor([1.])\n",
    "b = torch.Tensor([2.])\n",
    "c = a * b\n",
    "c.backward()\n",
    "a.grad"
   ]
  },
  {
   "cell_type": "code",
   "execution_count": null,
   "metadata": {},
   "outputs": [],
   "source": [
    "#创建一个多元函数，即Y=XW+b=Y=x1*w1+x2*w2*x3*w3+b，x不可求导，W,b设置可求导\n",
    "X=torch.tensor([1.5,2.5,3.5],requires_grad=False)\n",
    "W=torch.tensor([0.2,0.4,0.6],requires_grad=True)\n",
    "b=torch.tensor(0.1,requires_grad=True)\n",
    "Y=torch.add(torch.dot(X,W),b)\n",
    " \n",
    " \n",
    "#判断每个tensor是否是可以求导的\n",
    "print(X.requires_grad)\n",
    "print(W.requires_grad)\n",
    "print(b.requires_grad)\n",
    "print(Y.requires_grad)\n",
    " \n",
    " \n",
    "#求导，通过backward函数来实现\n",
    "Y.backward(torch.tensor(0.5))\n",
    " \n",
    "#查看导数，也即所谓的梯度\n",
    "print(W.grad)\n",
    "print(b.grad)"
   ]
  }
 ],
 "metadata": {
  "kernelspec": {
   "display_name": "Python 3.8.13 ('pytorch')",
   "language": "python",
   "name": "python3"
  },
  "language_info": {
   "codemirror_mode": {
    "name": "ipython",
    "version": 3
   },
   "file_extension": ".py",
   "mimetype": "text/x-python",
   "name": "python",
   "nbconvert_exporter": "python",
   "pygments_lexer": "ipython3",
   "version": "3.8.13"
  },
  "orig_nbformat": 4,
  "vscode": {
   "interpreter": {
<<<<<<< Updated upstream
    "hash": "3c34c0319d0a309be29663e51c48d620a80f809bc34ab561fe0a7ac57c4f65c6"
=======
    "hash": "165072c52a778f8e52483bfeb4aebe819e51e7f8d8bf07bb4ebb429d6c4302cd"
>>>>>>> Stashed changes
   }
  }
 },
 "nbformat": 4,
 "nbformat_minor": 2
}
