{
 "cells": [
  {
   "cell_type": "code",
   "execution_count": 19,
   "metadata": {},
   "outputs": [],
   "source": [
    "from eznf.nn.modules import perceptron\n",
    "import eznf.tensor.tensor as tensor "
   ]
  },
  {
   "cell_type": "code",
   "execution_count": 20,
   "metadata": {},
   "outputs": [],
   "source": [
    "#数据集准备\n",
    "train_X = tensor.Tensor([[1.,-1.,-1.],[1.,1.,-1.]])\n",
    "test_X = tensor.Tensor([1.,1.,-1.])\n",
    "train_Y = tensor.Tensor([1.,-1.])\n",
    "test_Y = tensor.Tensor([1.])\n",
    "#参数设置\n",
    "lr = 0.5\n",
    "max_step = 100"
   ]
  },
  {
   "cell_type": "code",
   "execution_count": 21,
   "metadata": {},
   "outputs": [],
   "source": [
    "p_model = perceptron.Perceptron(lr,max_step)"
   ]
  },
  {
   "cell_type": "code",
   "execution_count": 22,
   "metadata": {},
   "outputs": [],
   "source": [
    "p_model.fit(train_X,train_Y)"
   ]
  },
  {
   "cell_type": "code",
   "execution_count": 23,
   "metadata": {},
   "outputs": [
    {
     "name": "stdout",
     "output_type": "stream",
     "text": [
      "test_Y = tensor(\n",
      "[1.]\n",
      "),pred_Y = tensor(\n",
      "[1.]\n",
      ")\n"
     ]
    }
   ],
   "source": [
    "print(f\"test_Y = {test_Y},pred_Y = {p_model.predict(test_X)}\")"
   ]
  },
  {
   "cell_type": "code",
   "execution_count": 24,
   "metadata": {},
   "outputs": [
    {
     "ename": "TypeError",
     "evalue": "an integer is required",
     "output_type": "error",
     "traceback": [
      "\u001b[1;31m---------------------------------------------------------------------------\u001b[0m",
      "\u001b[1;31mTypeError\u001b[0m                                 Traceback (most recent call last)",
      "\u001b[1;32mc:\\Users\\21105\\my_app_datas\\qq_download\\大三上期课程\\神经网络课程设计\\me\\eznf\\perception_test.ipynb Cell 6\u001b[0m in \u001b[0;36m<cell line: 1>\u001b[1;34m()\u001b[0m\n\u001b[1;32m----> <a href='vscode-notebook-cell:/c%3A/Users/21105/my_app_datas/qq_download/%E5%A4%A7%E4%B8%89%E4%B8%8A%E6%9C%9F%E8%AF%BE%E7%A8%8B/%E7%A5%9E%E7%BB%8F%E7%BD%91%E7%BB%9C%E8%AF%BE%E7%A8%8B%E8%AE%BE%E8%AE%A1/me/eznf/perception_test.ipynb#X10sZmlsZQ%3D%3D?line=0'>1</a>\u001b[0m \u001b[39mprint\u001b[39m(p_model\u001b[39m.\u001b[39;49mweight\u001b[39m.\u001b[39;49mT \u001b[39m@\u001b[39;49m test_X \u001b[39m>\u001b[39;49m \u001b[39m0\u001b[39;49m)\n",
      "File \u001b[1;32mc:\\Users\\21105\\my_app_datas\\qq_download\\大三上期课程\\神经网络课程设计\\me\\eznf\\eznf\\tensor\\tensor.py:152\u001b[0m, in \u001b[0;36mTensor.__gt__\u001b[1;34m(self, other)\u001b[0m\n\u001b[0;32m    151\u001b[0m \u001b[39mdef\u001b[39;00m \u001b[39m__gt__\u001b[39m(\u001b[39mself\u001b[39m, other):\n\u001b[1;32m--> 152\u001b[0m     \u001b[39mreturn\u001b[39;00m Tensor(\u001b[39mself\u001b[39;49m\u001b[39m.\u001b[39;49mitem\u001b[39m.\u001b[39;49m\u001b[39m__gt__\u001b[39;49m(other), requires_grad\u001b[39m=\u001b[39;49m\u001b[39mself\u001b[39;49m\u001b[39m.\u001b[39;49mrequires_grad, is_leaf\u001b[39m=\u001b[39;49m\u001b[39mFalse\u001b[39;49;00m)\n",
      "File \u001b[1;32mc:\\Users\\21105\\my_app_datas\\qq_download\\大三上期课程\\神经网络课程设计\\me\\eznf\\eznf\\tensor\\tensor.py:17\u001b[0m, in \u001b[0;36mTensor.__init__\u001b[1;34m(self, device, requires_grad, grad_fn, is_leaf, *args)\u001b[0m\n\u001b[0;32m     15\u001b[0m     \u001b[39mself\u001b[39m\u001b[39m.\u001b[39mitem \u001b[39m=\u001b[39m args[\u001b[39m0\u001b[39m]\u001b[39m.\u001b[39mitem\n\u001b[0;32m     16\u001b[0m \u001b[39melse\u001b[39;00m:\n\u001b[1;32m---> 17\u001b[0m     \u001b[39mself\u001b[39m\u001b[39m.\u001b[39mitem \u001b[39m=\u001b[39m np\u001b[39m.\u001b[39;49mrandom\u001b[39m.\u001b[39;49mrandn(\u001b[39m*\u001b[39;49margs)\n\u001b[0;32m     19\u001b[0m \u001b[39mself\u001b[39m\u001b[39m.\u001b[39mrequires_grad \u001b[39m=\u001b[39m requires_grad\n\u001b[0;32m     20\u001b[0m \u001b[39mself\u001b[39m\u001b[39m.\u001b[39mgrad_fn \u001b[39m=\u001b[39m grad_fn\n",
      "File \u001b[1;32mmtrand.pyx:1246\u001b[0m, in \u001b[0;36mnumpy.random.mtrand.RandomState.randn\u001b[1;34m()\u001b[0m\n",
      "File \u001b[1;32mmtrand.pyx:1403\u001b[0m, in \u001b[0;36mnumpy.random.mtrand.RandomState.standard_normal\u001b[1;34m()\u001b[0m\n",
      "File \u001b[1;32m_common.pyx:630\u001b[0m, in \u001b[0;36mnumpy.random._common.cont\u001b[1;34m()\u001b[0m\n",
      "\u001b[1;31mTypeError\u001b[0m: an integer is required"
     ]
    }
   ],
   "source": [
    "print((p_model.weight.T @ test_X))"
   ]
  }
 ],
 "metadata": {
  "kernelspec": {
   "display_name": "Python 3.8.13 ('pytorch')",
   "language": "python",
   "name": "python3"
  },
  "language_info": {
   "codemirror_mode": {
    "name": "ipython",
    "version": 3
   },
   "file_extension": ".py",
   "mimetype": "text/x-python",
   "name": "python",
   "nbconvert_exporter": "python",
   "pygments_lexer": "ipython3",
   "version": "3.8.13"
  },
  "orig_nbformat": 4,
  "vscode": {
   "interpreter": {
    "hash": "165072c52a778f8e52483bfeb4aebe819e51e7f8d8bf07bb4ebb429d6c4302cd"
   }
  }
 },
 "nbformat": 4,
 "nbformat_minor": 2
}
