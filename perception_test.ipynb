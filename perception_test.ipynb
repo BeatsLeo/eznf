{
 "cells": [
  {
   "cell_type": "code",
   "execution_count": 1,
   "metadata": {},
   "outputs": [
    {
     "name": "stdout",
     "output_type": "stream",
     "text": [
      "(2, 3, 2, 2)\n"
     ]
    }
   ],
   "source": [
    "from eznf.nn.modules import perceptron\n",
    "import eznf.tensor.tensor as tensor "
   ]
  },
  {
   "cell_type": "code",
   "execution_count": 2,
   "metadata": {},
   "outputs": [],
   "source": [
    "#数据集准备\n",
    "train_X = tensor.Tensor([[1.,-1.,-1.],[1.,1.,-1.]])\n",
    "test_X = tensor.Tensor([-1.,-1.,-1.])\n",
    "train_Y = tensor.Tensor([1.,-1.])\n",
    "test_Y = tensor.Tensor([-1.])\n",
    "#参数设置\n",
    "lr = 0.5\n",
    "max_step = 100"
   ]
  },
  {
   "cell_type": "code",
   "execution_count": 3,
   "metadata": {},
   "outputs": [],
   "source": [
    "p_model = perceptron.Perceptron(lr,max_step)"
   ]
  },
  {
   "cell_type": "code",
   "execution_count": 4,
   "metadata": {},
   "outputs": [
    {
     "ename": "TypeError",
     "evalue": "'Tensor' object is not subscriptable",
     "output_type": "error",
     "traceback": [
      "\u001b[1;31m---------------------------------------------------------------------------\u001b[0m",
      "\u001b[1;31mTypeError\u001b[0m                                 Traceback (most recent call last)",
      "\u001b[1;32mc:\\Users\\21105\\mycode\\my_py_code\\神经网络课程设计\\eznf\\perception_test.ipynb Cell 4\u001b[0m in \u001b[0;36m<cell line: 1>\u001b[1;34m()\u001b[0m\n\u001b[1;32m----> <a href='vscode-notebook-cell:/c%3A/Users/21105/mycode/my_py_code/%E7%A5%9E%E7%BB%8F%E7%BD%91%E7%BB%9C%E8%AF%BE%E7%A8%8B%E8%AE%BE%E8%AE%A1/eznf/perception_test.ipynb#W3sZmlsZQ%3D%3D?line=0'>1</a>\u001b[0m p_model\u001b[39m.\u001b[39;49mfit(train_X,train_Y)\n",
      "File \u001b[1;32mc:\\Users\\21105\\mycode\\my_py_code\\神经网络课程设计\\eznf\\eznf\\nn\\modules\\perceptron.py:39\u001b[0m, in \u001b[0;36mPerceptron.fit\u001b[1;34m(self, X, y)\u001b[0m\n\u001b[0;32m     37\u001b[0m \u001b[39m# 遍历训练集\u001b[39;00m\n\u001b[0;32m     38\u001b[0m \u001b[39mfor\u001b[39;00m idx \u001b[39min\u001b[39;00m \u001b[39mrange\u001b[39m(n):\n\u001b[1;32m---> 39\u001b[0m     Xi \u001b[39m=\u001b[39m X[idx, :]\n\u001b[0;32m     40\u001b[0m     yi \u001b[39m=\u001b[39m y[idx]\n\u001b[0;32m     41\u001b[0m     \u001b[39m# 计算线性函数输出值\u001b[39;00m\n",
      "\u001b[1;31mTypeError\u001b[0m: 'Tensor' object is not subscriptable"
     ]
    }
   ],
   "source": [
    "p_model.fit(train_X,train_Y)"
   ]
  },
  {
   "cell_type": "code",
   "execution_count": null,
   "metadata": {},
   "outputs": [],
   "source": [
    "p_model.pred(test_X,test_Y)"
   ]
  }
 ],
 "metadata": {
  "kernelspec": {
   "display_name": "Python 3.8.13 ('pytorch')",
   "language": "python",
   "name": "python3"
  },
  "language_info": {
   "codemirror_mode": {
    "name": "ipython",
    "version": 3
   },
   "file_extension": ".py",
   "mimetype": "text/x-python",
   "name": "python",
   "nbconvert_exporter": "python",
   "pygments_lexer": "ipython3",
   "version": "3.8.13"
  },
  "orig_nbformat": 4,
  "vscode": {
   "interpreter": {
    "hash": "165072c52a778f8e52483bfeb4aebe819e51e7f8d8bf07bb4ebb429d6c4302cd"
   }
  }
 },
 "nbformat": 4,
 "nbformat_minor": 2
}
