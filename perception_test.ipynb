{
 "cells": [
  {
   "cell_type": "code",
   "execution_count": 6,
   "metadata": {},
   "outputs": [],
   "source": [
    "from eznf.nn.modules import perceptron\n",
    "import eznf.tensor.tensor as tensor "
   ]
  },
  {
   "cell_type": "code",
   "execution_count": 7,
   "metadata": {},
   "outputs": [],
   "source": [
    "#数据集准备\n",
    "train_X = tensor.Tensor([[1.,-1.,-1.],[1.,1.,-1.]])\n",
    "test_X = tensor.Tensor([-1.,-1.,-1.])\n",
    "train_Y = tensor.Tensor([1.,-1.])\n",
    "test_Y = tensor.Tensor([1.])\n",
    "#参数设置\n",
    "lr = 0.5\n",
    "max_step = 100"
   ]
  },
  {
   "cell_type": "code",
   "execution_count": 8,
   "metadata": {},
   "outputs": [],
   "source": [
    "p_model = perceptron.Perceptron(lr,max_step)"
   ]
  },
  {
   "cell_type": "code",
   "execution_count": 9,
   "metadata": {},
   "outputs": [],
   "source": [
    "p_model.fit(train_X,train_Y)"
   ]
  },
  {
   "cell_type": "code",
   "execution_count": 10,
   "metadata": {},
   "outputs": [
    {
     "name": "stdout",
     "output_type": "stream",
     "text": [
      "tensor(\n",
      "[1.]\n",
      ")\n"
     ]
    },
    {
     "ename": "ValueError",
     "evalue": "not tensor",
     "output_type": "error",
     "traceback": [
      "\u001b[1;31m---------------------------------------------------------------------------\u001b[0m",
      "\u001b[1;31mValueError\u001b[0m                                Traceback (most recent call last)",
      "\u001b[1;32mc:\\Users\\21105\\my_app_datas\\qq_download\\大三上期课程\\神经网络课程设计\\me\\eznf\\perception_test.ipynb Cell 5\u001b[0m in \u001b[0;36m<cell line: 2>\u001b[1;34m()\u001b[0m\n\u001b[0;32m      <a href='vscode-notebook-cell:/c%3A/Users/21105/my_app_datas/qq_download/%E5%A4%A7%E4%B8%89%E4%B8%8A%E6%9C%9F%E8%AF%BE%E7%A8%8B/%E7%A5%9E%E7%BB%8F%E7%BD%91%E7%BB%9C%E8%AF%BE%E7%A8%8B%E8%AE%BE%E8%AE%A1/me/eznf/perception_test.ipynb#W4sZmlsZQ%3D%3D?line=0'>1</a>\u001b[0m \u001b[39mprint\u001b[39m(test_Y)\n\u001b[1;32m----> <a href='vscode-notebook-cell:/c%3A/Users/21105/my_app_datas/qq_download/%E5%A4%A7%E4%B8%89%E4%B8%8A%E6%9C%9F%E8%AF%BE%E7%A8%8B/%E7%A5%9E%E7%BB%8F%E7%BD%91%E7%BB%9C%E8%AF%BE%E7%A8%8B%E8%AE%BE%E8%AE%A1/me/eznf/perception_test.ipynb#W4sZmlsZQ%3D%3D?line=1'>2</a>\u001b[0m \u001b[39mprint\u001b[39m(p_model\u001b[39m.\u001b[39;49mpredict(test_X,test_Y))\n",
      "File \u001b[1;32mc:\\Users\\21105\\my_app_datas\\qq_download\\大三上期课程\\神经网络课程设计\\me\\eznf\\eznf\\nn\\modules\\perceptron.py:61\u001b[0m, in \u001b[0;36mPerceptron.predict\u001b[1;34m(self, X, Y)\u001b[0m\n\u001b[0;32m     57\u001b[0m f_value \u001b[39m=\u001b[39m (\u001b[39mself\u001b[39m\u001b[39m.\u001b[39mweight\u001b[39m.\u001b[39mT \u001b[39m@\u001b[39m X) \u001b[39m+\u001b[39m \u001b[39mself\u001b[39m\u001b[39m.\u001b[39mbias\n\u001b[0;32m     58\u001b[0m \u001b[39m# print(f_value)\u001b[39;00m\n\u001b[0;32m     59\u001b[0m \u001b[39m# print(type(f_value))\u001b[39;00m\n\u001b[0;32m     60\u001b[0m \u001b[39m# 计算对应的符号函数值，正数为1，负数和0为-1\u001b[39;00m\n\u001b[1;32m---> 61\u001b[0m pred \u001b[39m=\u001b[39m F\u001b[39m.\u001b[39;49mrelu(f_value)\n\u001b[0;32m     62\u001b[0m \u001b[39m# pred = f_value[0]\u001b[39;00m\n\u001b[0;32m     63\u001b[0m pred[pred \u001b[39m==\u001b[39m \u001b[39m0\u001b[39m] \u001b[39m=\u001b[39m \u001b[39m1\u001b[39m\n",
      "File \u001b[1;32mc:\\Users\\21105\\my_app_datas\\qq_download\\大三上期课程\\神经网络课程设计\\me\\eznf\\eznf\\nn\\functional.py:24\u001b[0m, in \u001b[0;36mrelu\u001b[1;34m(input)\u001b[0m\n\u001b[0;32m     23\u001b[0m \u001b[39mdef\u001b[39;00m \u001b[39mrelu\u001b[39m(\u001b[39minput\u001b[39m) \u001b[39m-\u001b[39m\u001b[39m>\u001b[39m torch\u001b[39m.\u001b[39mTensor:\n\u001b[1;32m---> 24\u001b[0m     istensor(\u001b[39minput\u001b[39;49m)\n\u001b[0;32m     25\u001b[0m     \u001b[39minput\u001b[39m\u001b[39m=\u001b[39mnp\u001b[39m.\u001b[39marray(\u001b[39minput\u001b[39m)\n\u001b[0;32m     26\u001b[0m     \u001b[39m# print(type(input.shape))\u001b[39;00m\n\u001b[0;32m     27\u001b[0m     \u001b[39m# np_zero = np.zeros(list(input.shape))\u001b[39;00m\n",
      "File \u001b[1;32mc:\\Users\\21105\\my_app_datas\\qq_download\\大三上期课程\\神经网络课程设计\\me\\eznf\\eznf\\nn\\functional.py:15\u001b[0m, in \u001b[0;36mistensor\u001b[1;34m(input)\u001b[0m\n\u001b[0;32m     13\u001b[0m \u001b[39mdef\u001b[39;00m \u001b[39mistensor\u001b[39m(\u001b[39minput\u001b[39m):\n\u001b[0;32m     14\u001b[0m     \u001b[39mif\u001b[39;00m(\u001b[39misinstance\u001b[39m(\u001b[39minput\u001b[39m,torch\u001b[39m.\u001b[39mTensor)\u001b[39m!=\u001b[39m\u001b[39mTrue\u001b[39;00m):\n\u001b[1;32m---> 15\u001b[0m         \u001b[39mraise\u001b[39;00m \u001b[39mValueError\u001b[39;00m(\u001b[39m'\u001b[39m\u001b[39mnot tensor\u001b[39m\u001b[39m'\u001b[39m)\n",
      "\u001b[1;31mValueError\u001b[0m: not tensor"
     ]
    }
   ],
   "source": [
    "print(test_Y)\n",
    "print(p_model.predict(test_X,test_Y))"
   ]
  }
 ],
 "metadata": {
  "kernelspec": {
   "display_name": "Python 3.8.13 ('pytorch')",
   "language": "python",
   "name": "python3"
  },
  "language_info": {
   "codemirror_mode": {
    "name": "ipython",
    "version": 3
   },
   "file_extension": ".py",
   "mimetype": "text/x-python",
   "name": "python",
   "nbconvert_exporter": "python",
   "pygments_lexer": "ipython3",
   "version": "3.8.13"
  },
  "orig_nbformat": 4,
  "vscode": {
   "interpreter": {
    "hash": "165072c52a778f8e52483bfeb4aebe819e51e7f8d8bf07bb4ebb429d6c4302cd"
   }
  }
 },
 "nbformat": 4,
 "nbformat_minor": 2
}
