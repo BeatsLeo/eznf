{
 "cells": [
  {
   "cell_type": "code",
   "execution_count": 8,
   "metadata": {},
   "outputs": [],
   "source": [
    "from eznf.nn.modules import perceptron\n",
    "import eznf.tensor.tensor as tensor "
   ]
  },
  {
   "cell_type": "code",
   "execution_count": 9,
   "metadata": {},
   "outputs": [],
   "source": [
    "#数据集准备\n",
    "train_X = tensor.Tensor([[1.,-1.,-1.],[1.,1.,-1.]])\n",
    "test_X = tensor.Tensor([1.,-1.,-1.])\n",
    "train_Y = tensor.Tensor([1.,-1.])\n",
    "test_Y = tensor.Tensor([1.])\n",
    "#参数设置\n",
    "lr = 0.5\n",
    "max_step = 100"
   ]
  },
  {
   "cell_type": "code",
   "execution_count": 10,
   "metadata": {},
   "outputs": [],
   "source": [
    "p_model = perceptron.Perceptron(lr,max_step)"
   ]
  },
  {
   "cell_type": "code",
   "execution_count": 11,
   "metadata": {},
   "outputs": [],
   "source": [
    "p_model.fit(train_X,train_Y)"
   ]
  },
  {
   "cell_type": "code",
   "execution_count": 12,
   "metadata": {},
   "outputs": [
    {
     "name": "stdout",
     "output_type": "stream",
     "text": [
      "test_Y = tensor(\n",
      "[1.]\n",
      "),pred_Y = tensor(\n",
      "[1.]\n",
      ")\n"
     ]
    }
   ],
   "source": [
    "print(f\"test_Y = {test_Y},pred_Y = {p_model.predict(test_X)}\")"
   ]
  }
 ],
 "metadata": {
  "kernelspec": {
   "display_name": "Python 3.8.13 ('pytorch')",
   "language": "python",
   "name": "python3"
  },
  "language_info": {
   "codemirror_mode": {
    "name": "ipython",
    "version": 3
   },
   "file_extension": ".py",
   "mimetype": "text/x-python",
   "name": "python",
   "nbconvert_exporter": "python",
   "pygments_lexer": "ipython3",
   "version": "3.8.13"
  },
  "orig_nbformat": 4,
  "vscode": {
   "interpreter": {
    "hash": "165072c52a778f8e52483bfeb4aebe819e51e7f8d8bf07bb4ebb429d6c4302cd"
   }
  }
 },
 "nbformat": 4,
 "nbformat_minor": 2
}
